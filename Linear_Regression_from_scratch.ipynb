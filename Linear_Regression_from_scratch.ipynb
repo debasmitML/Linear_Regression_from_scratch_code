{
  "nbformat": 4,
  "nbformat_minor": 0,
  "metadata": {
    "colab": {
      "provenance": []
    },
    "kernelspec": {
      "name": "python3",
      "display_name": "Python 3"
    },
    "language_info": {
      "name": "python"
    }
  },
  "cells": [
    {
      "cell_type": "markdown",
      "source": [
        "Initializing the python libraries"
      ],
      "metadata": {
        "id": "WcDFBwPriXBw"
      }
    },
    {
      "cell_type": "code",
      "source": [
        "import numpy as np                  ## this library is used for working with arrays \n",
        "import matplotlib.pyplot as plt     ## for plotting \n",
        "import time                         ## this library is used for computing various time related functions\n",
        "np.random.seed(42)"
      ],
      "metadata": {
        "id": "kp8JFbWwiYlc"
      },
      "execution_count": null,
      "outputs": []
    },
    {
      "cell_type": "markdown",
      "source": [
        "Question 1 : the data_matrix function is taking number of samples and number of feature dimensions as input and at the output it provides X (Data Matrix). number of samples has been taken as 200 and feature_dimension has been taken as 20"
      ],
      "metadata": {
        "id": "KHOa7k5bjsap"
      }
    },
    {
      "cell_type": "code",
      "source": [
        "n= int(input('Enter the number of samples : '))    # number of samples = 200\n",
        "feature_dim= int(input('Enter the number of feature dimension : '))  # number of feature dimensions =10\n",
        "def data_matrix(n,feature_dim):\n",
        "  X = np.zeros((n,feature_dim))   ## X represents the data Matrix of (200,10) \n",
        "  for i in range(feature_dim):    ## i iterates through the number of feature dimensions, so at each column genrated 200 random samples will be stored\n",
        "    x = np.random.randn(n)        ## x stores the value of samples under a single feature dimension\n",
        "    X[:,i] = x\n",
        "  return X"
      ],
      "metadata": {
        "colab": {
          "base_uri": "https://localhost:8080/"
        },
        "id": "jM9Wb5HYCsD-",
        "outputId": "0f5d6cf4-2098-41f0-8469-9197793c7901"
      },
      "execution_count": null,
      "outputs": [
        {
          "name": "stdout",
          "output_type": "stream",
          "text": [
            "Enter the number of samples : 200\n",
            "Enter the number of feature dimension : 10\n"
          ]
        }
      ]
    },
    {
      "cell_type": "code",
      "source": [
        "X = data_matrix(n,feature_dim)     ##  X represents the data Matrix of (200,10)\n",
        "print('The Data Matrix shape is : ' , X.shape)"
      ],
      "metadata": {
        "id": "5MHfzeQyHMfX",
        "colab": {
          "base_uri": "https://localhost:8080/"
        },
        "outputId": "c94fe103-e672-43f2-c44b-b7936e3a970c"
      },
      "execution_count": null,
      "outputs": [
        {
          "output_type": "stream",
          "name": "stdout",
          "text": [
            "The Data Matrix shape is :  (200, 10)\n"
          ]
        }
      ]
    },
    {
      "cell_type": "markdown",
      "source": [
        "Question 2 : std_deviation function provides the standard deviation value at the output and it is taking user defined noise variance value as the input. \n",
        "And target function takes the Data_matrix , Weight vector and standard_deviation value as the input and provides target vector at the output.  "
      ],
      "metadata": {
        "id": "lYENGgKUl2zB"
      }
    },
    {
      "cell_type": "code",
      "source": [
        "def std_deviation():\n",
        "  variance = float(input('Enter the value of noise variance : ')) ## variable variance stores the value of noise variance\n",
        "  return variance**(0.5)                                          ## it returns the noise standard deviation value\n",
        "W1 = np.random.randn(feature_dim + 1)                           ## W1 represents the weight vector of shape (11,) for target variable t, 1st value in the array represents bias value\n",
        "X0 = np.ones((n,1))                    \n",
        "X_new = np.hstack((X0 , X)) ## adding a new column which containing ones for incorporating the bias value\n",
        "std = std_deviation()\n",
        "#noise = std_deviation() * np.random.randn(n)  ## noise vector with zero mean and user defined standard deviation of shape (200,) \n",
        "def target(Data_matrix,W1, standard_deviation = std):\n",
        "  t = np.zeros(Data_matrix.shape[0])                       ## t stores the target vector of shape (200,)\n",
        "  noise = standard_deviation * np.random.randn(Data_matrix.shape[0])  ## noise vector with zero mean and user defined standard deviation of shape (200,)\n",
        "  for j in range(Data_matrix.shape[0]):                    ## j iterates through the 200 samples\n",
        "    weighted_sum = 0\n",
        "    for k in range(Data_matrix.shape[1]):                  ## k iterates through the number of feature_dimensions\n",
        "      weighted_sum = weighted_sum + (Data_matrix[j,k]*W1[k])\n",
        "    target_value = weighted_sum + noise[j]                 ## target value is summation of the weighted sum of Data matrix and weight vector multiplication and then noise vector with user defined noise variance is added\n",
        "    t[j] = target_value\n",
        "  return t"
      ],
      "metadata": {
        "colab": {
          "base_uri": "https://localhost:8080/"
        },
        "id": "qT6qVseqHXOj",
        "outputId": "65555841-6668-4af7-e324-f6f5f818bf7d"
      },
      "execution_count": null,
      "outputs": [
        {
          "name": "stdout",
          "output_type": "stream",
          "text": [
            "Enter the value of noise variance : 0.9\n"
          ]
        }
      ]
    },
    {
      "cell_type": "code",
      "source": [
        "t = target(X_new , W1)\n",
        "print('The shape of the target vector is : ' , t.shape)"
      ],
      "metadata": {
        "id": "vIgouR5wi2wo",
        "colab": {
          "base_uri": "https://localhost:8080/"
        },
        "outputId": "c22e6d8c-e26e-4574-9815-d55e3fa5cdb6"
      },
      "execution_count": null,
      "outputs": [
        {
          "output_type": "stream",
          "name": "stdout",
          "text": [
            "The shape of the target vector is :  (200,)\n"
          ]
        }
      ]
    },
    {
      "cell_type": "markdown",
      "source": [
        "Question 3 : output function takes Data Matrix and a new weight vector as the input and provides y (predicted output) at the output."
      ],
      "metadata": {
        "id": "65zOQmwcoeqC"
      }
    },
    {
      "cell_type": "code",
      "source": [
        "W2 = np.random.randn(feature_dim + 1)   ## A new weight vector, W2 represents the weight vector of shape (11,) for output variable , 1st value in the array represents bias value\n",
        "def output(Data_Matrix,W2):\n",
        "  y = np.zeros(Data_Matrix.shape[0])  ## t stores the target vector of shape (200,)\n",
        "  for j in range(Data_Matrix.shape[0]):\n",
        "    weighted_sum = 0\n",
        "    for k in range(Data_Matrix.shape[1]):\n",
        "      weighted_sum = weighted_sum + (Data_Matrix[j,k]*W2[k]) \n",
        "    y[j] = weighted_sum              ## y is the weighted sum of Data Matrix and A new weight vector (W2) multiplication.\n",
        "\n",
        "  return y"
      ],
      "metadata": {
        "id": "FFNPJO2GKRZJ"
      },
      "execution_count": null,
      "outputs": []
    },
    {
      "cell_type": "code",
      "source": [
        "y = output(X_new , W2)\n",
        "print(\" The shape of the output vector is : \" , y.shape) "
      ],
      "metadata": {
        "id": "WE3GZLsxJU7U",
        "colab": {
          "base_uri": "https://localhost:8080/"
        },
        "outputId": "b488875a-43c6-4ade-fc21-7384263af4b7"
      },
      "execution_count": null,
      "outputs": [
        {
          "output_type": "stream",
          "name": "stdout",
          "text": [
            " The shape of the output vector is :  (200,)\n"
          ]
        }
      ]
    },
    {
      "cell_type": "markdown",
      "source": [
        "Question 4 : MSE function takes the number of samples, target vector and output vector as the input and provides Mean squared error between target and output vector at the output"
      ],
      "metadata": {
        "id": "BQPRVP61p0vJ"
      }
    },
    {
      "cell_type": "code",
      "source": [
        "def MSE(samples,target,output):\n",
        "  squared_error = 0               \n",
        "  for i in range(samples):          ## i iterates through the number of samples (200)\n",
        "    squared_error = squared_error + (target[i]-output[i])**2     ## this variable stores the the squared error between the target vector and output vector \n",
        "  MSE = squared_error / samples                                  ## MSE provides the mean squared error between target and output vector\n",
        "  return MSE"
      ],
      "metadata": {
        "id": "JSO1FRNugJGY"
      },
      "execution_count": null,
      "outputs": []
    },
    {
      "cell_type": "code",
      "source": [
        "initial_Mean_squared_error = MSE(n,t,y)                    ## initial_Mean_squared_error defines the iitial MSE between target and output vector with initial weight vector W2\n",
        "                                                          ## W2 weight vecor is inital weight vector of Output vector. Later applying Pseudo inverse and gradient descent we will \n",
        "                                                          ## get the optimal weight vector which will provide the Final MSE value"
      ],
      "metadata": {
        "id": "yOtaSV17SLmm"
      },
      "execution_count": null,
      "outputs": []
    },
    {
      "cell_type": "code",
      "source": [
        "initial_Mean_squared_error"
      ],
      "metadata": {
        "colab": {
          "base_uri": "https://localhost:8080/"
        },
        "id": "g4gDooDe08bO",
        "outputId": "47e96a20-bc93-4a01-8af5-f0f86a14a2a7"
      },
      "execution_count": null,
      "outputs": [
        {
          "output_type": "execute_result",
          "data": {
            "text/plain": [
              "21.10749559674119"
            ]
          },
          "metadata": {},
          "execution_count": 10
        }
      ]
    },
    {
      "cell_type": "code",
      "source": [
        "initial_NRMSE = np.sqrt(initial_Mean_squared_error) / np.std(t)        ## initial _NRMSE is the normalized Root mean squred value between target and output vector. \n",
        "                                                                      ## RMSE value is normalized by dividing the standard deviation of target vector"
      ],
      "metadata": {
        "id": "gClDKwOW1VQS"
      },
      "execution_count": null,
      "outputs": []
    },
    {
      "cell_type": "code",
      "source": [
        "initial_NRMSE"
      ],
      "metadata": {
        "colab": {
          "base_uri": "https://localhost:8080/"
        },
        "id": "jI4_bjjb2Cdh",
        "outputId": "2be7ab0f-0e19-46d4-e2f7-cd53d0d00c94"
      },
      "execution_count": null,
      "outputs": [
        {
          "output_type": "execute_result",
          "data": {
            "text/plain": [
              "1.4572599037987692"
            ]
          },
          "metadata": {},
          "execution_count": 12
        }
      ]
    },
    {
      "cell_type": "markdown",
      "source": [
        "Question 5 : lambda_value() function provides the user defined lambda2 valure at the output which is used for L2 regularization.\n",
        "optimal_weight() function takes the lamba value, target vector, Data matrix with extra column of ones, number of features with the bias value and number of samples as the input provides the optimal weight vector , optimal output vector and optimal MSE value at the output after using pseudo inverse"
      ],
      "metadata": {
        "id": "BiNkdc9n4fpA"
      }
    },
    {
      "cell_type": "code",
      "source": [
        "def lambda_value():\n",
        "  lambda_value = float(input('Enter the value of lambda : '))\n",
        "  return lambda_value\n",
        "lambda_value = lambda_value()      ## it stores the user defined lambda value\n",
        "def optimal_weight(lambda_value,target,Data,dimensions,samples):\n",
        "  I = np.identity(dimensions)      ## it defines a identity matrix value of shape (11,11)\n",
        "  W_optimal = np.dot(np.dot(np.linalg.inv(lambda_value*I + np.matmul(Data.T,Data)), Data.T  ),target)  ## it gives the optimal weight vector with optimal bias value at the 1st row at the output after using psudo inverse\n",
        "  y_optimal = output(Data,W_optimal)                   ## Here output function is used to get the optimal output vector, Weight vector is taken as the optimal weight vector (W_optimal)\n",
        "  MSE_optimal = MSE(samples , target , y_optimal)      ## Here MSE function is used to get the Optimal MSE value by using pseudo inverse, optimal output vector is used at the input\n",
        "  return W_optimal, y_optimal, MSE_optimal"
      ],
      "metadata": {
        "colab": {
          "base_uri": "https://localhost:8080/"
        },
        "id": "Z5SrirSP0828",
        "outputId": "f1b4729b-9e29-4007-bb6e-7bff586310ec"
      },
      "execution_count": null,
      "outputs": [
        {
          "name": "stdout",
          "output_type": "stream",
          "text": [
            "Enter the value of lambda : 0.01\n"
          ]
        }
      ]
    },
    {
      "cell_type": "code",
      "source": [
        "W_optimal, y_optimal, MSE_optimal= optimal_weight(lambda_value,t,X_new, (feature_dim + 1), n)\n",
        "print('optimal weight vector shape is : ' , W_optimal.shape)\n",
        "print('optimal output vector shape is : ' , y_optimal.shape)\n",
        "print('optimal MSE value is : ' , MSE_optimal)"
      ],
      "metadata": {
        "id": "OiwW2svf09Be",
        "colab": {
          "base_uri": "https://localhost:8080/"
        },
        "outputId": "7a418694-4fb5-4cdc-e329-3920e4c386ca"
      },
      "execution_count": null,
      "outputs": [
        {
          "output_type": "stream",
          "name": "stdout",
          "text": [
            "optimal weight vector shape is :  (11,)\n",
            "optimal output vector shape is :  (200,)\n",
            "optimal MSE value is :  0.815153358825757\n"
          ]
        }
      ]
    },
    {
      "cell_type": "markdown",
      "source": [
        "Question 6 : gradient loss() function takes the data matrix with an extra column of ones, target vector, output vector and number of samples as the input and provides the gradient value of the loss function at the output"
      ],
      "metadata": {
        "id": "QrDnj7x47ukb"
      }
    },
    {
      "cell_type": "code",
      "source": [
        "def gradient_loss( data, target , output, samples):\n",
        "  error = target - output         ## error vector stores the differece between the target and output vector\n",
        "  gradient = (-1.0/samples) * np.dot(data.T , error)    ## gradient stores the gradient of MSE with respect to weight vector , which is calculatedd by the written equation\n",
        "  return gradient  "
      ],
      "metadata": {
        "id": "zgQVY68PFL6F"
      },
      "execution_count": null,
      "outputs": []
    },
    {
      "cell_type": "code",
      "source": [
        "grad_loss_vector = gradient_loss( X_new, t, y, n)"
      ],
      "metadata": {
        "id": "LtDEifTPFMC_"
      },
      "execution_count": null,
      "outputs": []
    },
    {
      "cell_type": "code",
      "source": [
        "grad_loss_vector               ## it is vector of shape (11,) , where each value represents the gradient of MSE with respector to bias W0 and Different Weight values"
      ],
      "metadata": {
        "colab": {
          "base_uri": "https://localhost:8080/"
        },
        "id": "56wqd4TgJ6gE",
        "outputId": "086056f3-ba16-4d8a-930f-dd4b7d30c3db"
      },
      "execution_count": null,
      "outputs": [
        {
          "output_type": "execute_result",
          "data": {
            "text/plain": [
              "array([ 1.0567638 ,  1.22838368,  0.2864796 ,  0.13543723,  2.2487085 ,\n",
              "       -0.24978727, -0.26525109,  2.95884357, -1.07169444, -1.31069173,\n",
              "        1.10864293])"
            ]
          },
          "metadata": {},
          "execution_count": 17
        }
      ]
    },
    {
      "cell_type": "code",
      "source": [
        "grad_loss_vector.shape"
      ],
      "metadata": {
        "colab": {
          "base_uri": "https://localhost:8080/"
        },
        "id": "fX59VBPG9Dom",
        "outputId": "19030938-6304-492e-8979-ce2ce7dc8077"
      },
      "execution_count": null,
      "outputs": [
        {
          "output_type": "execute_result",
          "data": {
            "text/plain": [
              "(11,)"
            ]
          },
          "metadata": {},
          "execution_count": 18
        }
      ]
    },
    {
      "cell_type": "markdown",
      "source": [
        "Question 7 : norm_squared_l2 function takes W2 weight vector as the input and  provides the L2 norm's squared value at the output"
      ],
      "metadata": {
        "id": "mc_Anjnd9r5I"
      }
    },
    {
      "cell_type": "code",
      "source": [
        "def norm_squared_l2( Weight):\n",
        "  Weight_without_bias = Weight[1:]  ## excluding the bias W0 from the Weight vector W2\n",
        "  l2_norm = np.sum(np.square(Weight_without_bias))  ## this equation gives the L2 norm squared value of weights after excluding bias value W0\n",
        "  return l2_norm"
      ],
      "metadata": {
        "id": "m7PZeTa7P6qb"
      },
      "execution_count": null,
      "outputs": []
    },
    {
      "cell_type": "code",
      "source": [
        "L2_norm_squared = norm_squared_l2(W2)\n",
        "L2_norm_squared"
      ],
      "metadata": {
        "id": "tGvFdXlFK6bc",
        "colab": {
          "base_uri": "https://localhost:8080/"
        },
        "outputId": "85e8fee9-f0cc-44dc-a114-3963d90a67dc"
      },
      "execution_count": null,
      "outputs": [
        {
          "output_type": "execute_result",
          "data": {
            "text/plain": [
              "6.487197149473536"
            ]
          },
          "metadata": {},
          "execution_count": 20
        }
      ]
    },
    {
      "cell_type": "code",
      "source": [
        "print('L2 norm of the vector W2 excluding bias W0 : ' , np.sqrt(L2_norm_squared))"
      ],
      "metadata": {
        "colab": {
          "base_uri": "https://localhost:8080/"
        },
        "id": "7XewVd3hC0rb",
        "outputId": "5e95ef07-d9e3-46db-b0db-eea08918a63d"
      },
      "execution_count": null,
      "outputs": [
        {
          "output_type": "stream",
          "name": "stdout",
          "text": [
            "L2 norm of the vector W2 excluding bias W0 :  2.546997673629392\n"
          ]
        }
      ]
    },
    {
      "cell_type": "markdown",
      "source": [
        "Question 8 : grad_L2_norm() function takes weight vector W2 and dimensions = feature_dimension +1 as the input and gives gradient of L2 norm with respect to weight vectors"
      ],
      "metadata": {
        "id": "WKHkrQuYDKYY"
      }
    },
    {
      "cell_type": "code",
      "source": [
        "def grad_L2_norm(Weights , dimensions):\n",
        "  grad_l2norm = np.zeros(dimensions) \n",
        "  for i in range(1,dimensions):\n",
        "    grad_l2norm[i] = 2 * Weights[i]   ## grad_l2norm stores the gradient of L2 norm which is calculated by the written equation , as the gradient of L2 norm w.r.t bias W0 is zero,\n",
        "                                      ## that's why iteration is starting from i = 1\n",
        "  return grad_l2norm "
      ],
      "metadata": {
        "id": "YE1sG8Cp_kvi"
      },
      "execution_count": null,
      "outputs": []
    },
    {
      "cell_type": "code",
      "source": [
        "Grad_L2_norm = grad_L2_norm(W2, feature_dim+1)"
      ],
      "metadata": {
        "id": "V_BmfRDvGlT2"
      },
      "execution_count": null,
      "outputs": []
    },
    {
      "cell_type": "code",
      "source": [
        "Grad_L2_norm"
      ],
      "metadata": {
        "colab": {
          "base_uri": "https://localhost:8080/"
        },
        "id": "XCn-CN-fHJ3f",
        "outputId": "ce9aab90-4f80-4ca8-ffcd-c132ba95e75a"
      },
      "execution_count": null,
      "outputs": [
        {
          "output_type": "execute_result",
          "data": {
            "text/plain": [
              "array([ 0.        ,  1.76466612, -0.90418067, -0.9400843 ,  0.53175646,\n",
              "       -0.87343947, -0.13226523,  4.19944358, -0.4940514 , -0.7166803 ,\n",
              "       -1.29508361])"
            ]
          },
          "metadata": {},
          "execution_count": 24
        }
      ]
    },
    {
      "cell_type": "code",
      "source": [
        "Grad_L2_norm.shape"
      ],
      "metadata": {
        "colab": {
          "base_uri": "https://localhost:8080/"
        },
        "id": "RS8uou2_Ej-k",
        "outputId": "4de76db2-3ea3-4731-d8d5-e4c5d39f8228"
      },
      "execution_count": null,
      "outputs": [
        {
          "output_type": "execute_result",
          "data": {
            "text/plain": [
              "(11,)"
            ]
          },
          "metadata": {},
          "execution_count": 25
        }
      ]
    },
    {
      "cell_type": "markdown",
      "source": [
        "Question 9 :  norm_l1 function takes W2 weight vector as the input and  provides the L1 norm at the output"
      ],
      "metadata": {
        "id": "XI_xClHyEnLC"
      }
    },
    {
      "cell_type": "code",
      "source": [
        "def norm_l1( Weight):\n",
        "  Weight_without_bias = Weight[1:]  ## excluding the bias W0\n",
        "  l1_norm = np.sum(np.abs(Weight_without_bias))  ## this equation gives the L1 norm value of weights after excluding bias value W0\n",
        "  return l1_norm"
      ],
      "metadata": {
        "id": "swTq2DXoHOke"
      },
      "execution_count": null,
      "outputs": []
    },
    {
      "cell_type": "code",
      "source": [
        "L1_norm = norm_l1(W2)"
      ],
      "metadata": {
        "id": "vAhMDWRsIlD6"
      },
      "execution_count": null,
      "outputs": []
    },
    {
      "cell_type": "code",
      "source": [
        "print('L1 norm of the vector W2 excluding bias W0 : ' , L1_norm)"
      ],
      "metadata": {
        "colab": {
          "base_uri": "https://localhost:8080/"
        },
        "id": "_zqaYwN_IzCf",
        "outputId": "38412fb2-cc1f-4352-ec25-8961e194a279"
      },
      "execution_count": null,
      "outputs": [
        {
          "output_type": "stream",
          "name": "stdout",
          "text": [
            "L1 norm of the vector W2 excluding bias W0 :  5.925825570803351\n"
          ]
        }
      ]
    },
    {
      "cell_type": "markdown",
      "source": [
        "Question 10: grad_L1_norm() function takes weight vector W2 as the input and gives gradient of L1 norm with respect to weight vectors"
      ],
      "metadata": {
        "id": "pwKw5zcMFkhL"
      }
    },
    {
      "cell_type": "code",
      "source": [
        "def grad_L1_norm(Weights):\n",
        "  grad_l1norm = np.where(Weights>0 , 1, -1)  ## if weight value is greater than 0, then its gradient will be 1 and if weight value is less than zero then its gradient will be -1\n",
        "  grad_l1norm[0] = 0    ##  gradient of l1 norm w.r.t W0 is 0\n",
        "  return grad_l1norm "
      ],
      "metadata": {
        "id": "3g3RlsDbI6U1"
      },
      "execution_count": null,
      "outputs": []
    },
    {
      "cell_type": "code",
      "source": [
        "Grad_L1_norm = grad_L1_norm(W2)"
      ],
      "metadata": {
        "id": "PaY-faa1KIxA"
      },
      "execution_count": null,
      "outputs": []
    },
    {
      "cell_type": "code",
      "source": [
        "Grad_L1_norm"
      ],
      "metadata": {
        "colab": {
          "base_uri": "https://localhost:8080/"
        },
        "id": "IdGSvOTAKI5n",
        "outputId": "d19acbe3-7ca0-4eb0-827d-d8bba97ce93b"
      },
      "execution_count": null,
      "outputs": [
        {
          "output_type": "execute_result",
          "data": {
            "text/plain": [
              "array([ 0,  1, -1, -1,  1, -1, -1,  1, -1, -1, -1])"
            ]
          },
          "metadata": {},
          "execution_count": 31
        }
      ]
    },
    {
      "cell_type": "code",
      "source": [
        "Grad_L1_norm.shape"
      ],
      "metadata": {
        "colab": {
          "base_uri": "https://localhost:8080/"
        },
        "id": "bmR1xf5FGVLM",
        "outputId": "ba72872d-b501-4877-cd89-5870f75afaf4"
      },
      "execution_count": null,
      "outputs": [
        {
          "output_type": "execute_result",
          "data": {
            "text/plain": [
              "(11,)"
            ]
          },
          "metadata": {},
          "execution_count": 32
        }
      ]
    },
    {
      "cell_type": "markdown",
      "source": [
        "Question 11 : Gradient_descent function takes the Data matrix with one extra column of ones , target vector, output vector , weight vector W2 , lambda 1 and lambda2 value , eta value as input and provides single update of weights , output value and MSE value at the output"
      ],
      "metadata": {
        "id": "2SBa6XzpGZ-k"
      }
    },
    {
      "cell_type": "code",
      "source": [
        "def Gradient_descent(data, target, output_ ,Weight, lambda1, lambda2, eta ):\n",
        "  updated_Weight = Weight - eta * (gradient_loss( data, target, output_, data.shape[0]) + (lambda1 * grad_L1_norm(Weight)) + (lambda2 * grad_L2_norm(Weight, data.shape[1])))\n",
        "  ## updated_weight stores the updated weight values after single iteration using gradient descent, the above equation is used for the single updation of weight values\n",
        "  updated_output = output(data , updated_Weight)        ## it stores the updated output value after a single updation \n",
        "  updated_MSE = MSE(data.shape[0], target, updated_output)   ## it stores the updated MSE value after a single updation \n",
        "  return updated_Weight, updated_output, updated_MSE"
      ],
      "metadata": {
        "id": "XxZGpdzPKI9C"
      },
      "execution_count": null,
      "outputs": []
    },
    {
      "cell_type": "code",
      "source": [
        "updated_Weight_after_single_iteration , updated_output_after_single_iteration, updated_MSE_after_single_iteration = Gradient_descent(X_new, t, y ,W2, 0.01, 0.01, 0.01 )\n",
        "print('The updated Weight value after a single updation : ' , updated_Weight_after_single_iteration )\n",
        "print('The updated output value after a single updation : ' , updated_output_after_single_iteration)\n",
        "print('The updated MSE value after a single updation : ' , updated_MSE_after_single_iteration)"
      ],
      "metadata": {
        "colab": {
          "base_uri": "https://localhost:8080/"
        },
        "id": "DVtcJu_3IVgs",
        "outputId": "1e0eb346-73a5-4826-ff52-86934270b361"
      },
      "execution_count": null,
      "outputs": [
        {
          "output_type": "stream",
          "name": "stdout",
          "text": [
            "The updated Weight value after a single updation :  [ 0.59394769  0.86977276 -0.45476471 -0.47120251  0.24323797 -0.43403452\n",
            " -0.06336688  2.06961341 -0.23615935 -0.34506157 -0.65839873]\n",
            "The updated output value after a single updation :  [ 0.62054654 -1.00774142  1.49071301  4.21567602  2.69343663  2.72375195\n",
            "  0.55971312 -1.66238396 -3.04657326  3.03543131 -2.71650167 -0.75545155\n",
            " -2.55870888 -1.50660448 -1.10189378  2.62426335 -0.80812508  1.98841119\n",
            " -2.23288355  3.43501232 -2.69346749  0.79256779  1.14814389  1.69243593\n",
            " -0.3917859  -1.70046976 -0.43306834 -0.13838209  2.14374863  5.64680025\n",
            " -0.71146514  1.05485609  0.26913139  4.75286099 -1.67912166  1.83184794\n",
            "  5.14762256 -1.74400554  0.15890987  3.81719639  0.38385006  1.00598011\n",
            "  0.73585489 -2.55994597 -0.82939153 -2.38208905 -1.15967384 -0.22748333\n",
            " -0.39744436 -4.71215027  3.07593442 -0.07661775 -3.77979058 -0.70637623\n",
            "  4.10742953  0.75825093  2.01332689  1.33701541 -0.41190705  0.52915124\n",
            "  0.21857618  1.10162902  2.05710091 -1.2264798   0.76528444  0.74788395\n",
            " -1.56406519 -0.62425155 -0.35405008  2.15081257  3.55174938  5.15404031\n",
            " -0.63279293  0.76095233 -1.12861035 -0.38828695  5.13943577  1.14413325\n",
            "  0.70181281 -1.60441652 -1.15639827 -0.25124193  4.20250716  2.49698373\n",
            " -2.59585524 -2.50957147 -1.38526574  2.29017529 -2.56563215 -4.10755599\n",
            "  0.70982098  5.74251712 -0.4497971   2.19581998 -1.30947954 -2.07339989\n",
            "  3.0088884  -1.17523845  0.04927312  1.70123949 -3.19329562  2.42681711\n",
            " -0.86137892 -3.72492687  1.31775208 -0.64927123  2.86859652  1.43342452\n",
            "  2.85760492  1.24079005 -2.21126889  0.27310121  3.46372657  3.1481892\n",
            "  1.53889059 -1.68284195 -2.52843242 -0.29923443  0.33261687  0.42469157\n",
            "  2.51830576 -0.21342723  2.43120885 -0.42506892  0.51944263  0.47580642\n",
            " -0.33770689 -1.06584426 -3.77206636 -0.30283418  3.23956952  3.49684266\n",
            "  0.0871808   5.69039075 -1.86654444  3.48459869 -0.07058975  0.21088824\n",
            " -0.66888234  0.87493052  1.0707495   1.27915777 -1.2793194   2.74440386\n",
            "  3.55240027 -1.19190624 -4.95290865  2.09778485 -2.84687568 -0.22669159\n",
            "  0.27470387 -4.79349679  1.55850813  3.29084158 -0.52478224 -6.11415966\n",
            "  2.57705988 -0.34897738 -5.95806808  1.57897492 -1.44351426 -0.15754537\n",
            "  2.3169689  -2.47043879  2.82722134  0.34735645  1.67325145  0.43327707\n",
            "  0.58225906 -1.1797041  -1.08244044  4.1987712  -3.63036015 -2.13298402\n",
            "  3.06039752  3.44672445 -1.30804967  3.67572014  0.37372023  6.62078635\n",
            "  3.53195336 -0.62502789  6.42074853 -1.64675543  1.63815072  2.35652014\n",
            "  2.96088919  3.06104512 -0.34816674 -2.73874067  1.91302456  1.1123998\n",
            "  4.70262035 -2.14337713 -0.51096154  1.90859862 -2.86389838 -1.21569366\n",
            "  3.36218405 -2.17310443]\n",
            "The updated MSE value after a single updation :  20.689704492395197\n"
          ]
        }
      ]
    },
    {
      "cell_type": "markdown",
      "source": [
        "Question 12 : Linear_Regression function takes the Data Matrix , target vector , Weight vector, maximum iteration, initial_NRMSE, eta, min_change_NRMSE, lambda1 and lambda2 value as the input and it gives the Weight value  , output  , updated_NRMSE at the output after the maximum iteration or the normalized RMSE does not change by more than min_change_NRMSE"
      ],
      "metadata": {
        "id": "ifIP6EsOKxX9"
      }
    },
    {
      "cell_type": "code",
      "source": [
        "def Linear_Regression(data, target, output, Weight,  max_iter , initial_NRMSE , eta = 0.01 , min_change_NRMSE=0.001, lambda1=0.01, lambda2 =0.01 ):\n",
        "  previous_NRMSE = initial_NRMSE\n",
        "  for i in range(max_iter):  ## i is iterating through the maximum value of iteration\n",
        "    \n",
        "    Weight, output, updated_MSE = Gradient_descent(data, target, output ,Weight, lambda1, lambda2 , eta) \n",
        "    ## This function provides single update of weights , output value and MSE value at the output\n",
        "    updated_NRMSE = np.sqrt(updated_MSE) / np.std(target)  ## this stores the updated NRMSE value after each iteration\n",
        "    change_NRMSE = np.abs(previous_NRMSE - updated_NRMSE ) ## it gives the difference between the updated_NRMSE and previous NRMSE value\n",
        "    previous_NRMSE = updated_NRMSE                         \n",
        "    if change_NRMSE <= min_change_NRMSE:                   ## if change in NRMSE is less than the min_change_NRMSE, then the loop breaks\n",
        "        break\n",
        "  return Weight, output , updated_NRMSE"
      ],
      "metadata": {
        "id": "1hVZp_BGKI_x"
      },
      "execution_count": null,
      "outputs": []
    },
    {
      "cell_type": "code",
      "source": [
        "Final_W, Final_output, Final_NRMSE = Linear_Regression(X_new, t , y , W2 , 500 , initial_NRMSE)  ## 500 iteration is taken"
      ],
      "metadata": {
        "id": "7zdOkJOLzas4"
      },
      "execution_count": null,
      "outputs": []
    },
    {
      "cell_type": "code",
      "source": [
        "print(' Final NRMSE value after completing the iteration : ' , Final_NRMSE)"
      ],
      "metadata": {
        "colab": {
          "base_uri": "https://localhost:8080/"
        },
        "id": "HZ4YjvwszwmK",
        "outputId": "21b21342-5d11-4724-808b-9419e3ab7fb8"
      },
      "execution_count": null,
      "outputs": [
        {
          "output_type": "stream",
          "name": "stdout",
          "text": [
            " Final NRMSE value after completing the iteration :  0.3491191393622549\n"
          ]
        }
      ]
    },
    {
      "cell_type": "code",
      "source": [
        "print(' initial NRMSE value : ' , initial_NRMSE)"
      ],
      "metadata": {
        "colab": {
          "base_uri": "https://localhost:8080/"
        },
        "id": "lHR-FoaqMF1k",
        "outputId": "f2e4145a-8fc7-4957-b6f4-8e3c0ebe5a11"
      },
      "execution_count": null,
      "outputs": [
        {
          "output_type": "stream",
          "name": "stdout",
          "text": [
            " initial NRMSE value :  1.4572599037987692\n"
          ]
        }
      ]
    },
    {
      "cell_type": "code",
      "source": [
        "seed = np.arange(11,21,1)   ## seed array stores the different seed values for different experiments"
      ],
      "metadata": {
        "id": "JWZ1YxipOXbf"
      },
      "execution_count": null,
      "outputs": []
    },
    {
      "cell_type": "markdown",
      "source": [
        "Question 13 (a)"
      ],
      "metadata": {
        "id": "Htwhu2GJcAKo"
      }
    },
    {
      "cell_type": "markdown",
      "source": [
        "Trends : Variability among the validation NRMSE for different experiments are decreasing with increaing number number of training samples. As we know that , if we increase the number of training samples for training overfitting is decreased. So the variance or variability among the different experiments is also decreasing."
      ],
      "metadata": {
        "id": "jQSy1j2K0w3r"
      }
    },
    {
      "cell_type": "code",
      "source": [
        "training_number = int(input('Enter the total number of trainings, want to use for the experiment : '))  ## training number stores the total number of experiments for training\n",
        "training_samples_list = []  ## it stores the training samples for different experiment\n",
        "for i in range(training_number):\n",
        "  training_samples = int(input('Enter the total number of training samples : '))  ## it stores number the training samples for a particular experiment\n",
        "  training_samples_list.append(training_samples)"
      ],
      "metadata": {
        "colab": {
          "base_uri": "https://localhost:8080/"
        },
        "id": "12orfK35eKGk",
        "outputId": "9b409c47-9caf-4deb-ed9a-dc82292b5f7a"
      },
      "execution_count": null,
      "outputs": [
        {
          "name": "stdout",
          "output_type": "stream",
          "text": [
            "Enter the total number of trainings, want to use for the experiment : 5\n",
            "Enter the total number of training samples : 50\n",
            "Enter the total number of training samples : 100\n",
            "Enter the total number of training samples : 150\n",
            "Enter the total number of training samples : 200\n",
            "Enter the total number of training samples : 250\n"
          ]
        }
      ]
    },
    {
      "cell_type": "code",
      "source": [
        "training_NRMSE_samples = np.zeros((len(seed), training_number))   ## this matrix represents the number of experiments or different seed numbers in the row (10rows) and total number\n",
        "                                                                  ## of training samples in the column. For diffrent number of training samples Training NRMSE values will be stored \n",
        "                                                                  ## column wise and row will represent different number of experiments\n",
        "\n",
        "validation_NRMSE_samples = np.zeros((len(seed), training_number))  ## This matrix stores the validation NRMSE value for different number of training samples and experiments\n",
        "for i in range(len(seed)):                               ## i iterates through different random seeds \n",
        "  np.random.seed(seed[i])\n",
        "  training_NRMSE = [] ## this list stores the NRMSE values for different training samples for a single experiment\n",
        "  validation_NRMSE = []  ## this list stores the NRMSE values with different training samples for validation set for a single experiment\n",
        "  for j in training_samples_list:      ## j iterates through the number of different training samples \n",
        "\n",
        "    X_train = data_matrix(j ,feature_dim)    ## This function gives the training data matrix depending upon the different number of training samples  \n",
        "    X0_train = np.ones((j , 1))\n",
        "    X_train_new = np.hstack((X0_train , X_train)) ## adding a new column for incorporating the bias value in the validation_set\n",
        "    t_training = target(X_train_new , W1)         ## target vector for the training set\n",
        "    X_validation = data_matrix(int(j*0.4) ,feature_dim)   ## It provides the validation set with sample size of 40% of training samples number\n",
        "    X0_validation = np.ones((int(j*0.4) , 1))            \n",
        "    X_validation_new = np.hstack((X0_validation , X_validation)) ## adding a new column for incorporating the bias value in the validation_set\n",
        "    t_validation = target(X_validation_new , W1)                 ## target vector for the validation set\n",
        "    W_optimal_training, y_optimal_training, MSE_training = optimal_weight(lambda_value, t_training , X_train_new, (feature_dim + 1), j)\n",
        "    ## This function provides optimal weight vector , output vector of training samples and MSE value of training samples at the output after using pseudo inverse \n",
        "    NRMSE_training_value = np.sqrt(MSE_training) / np.std(t_training)  ## MSE value is normalized by dividing the MSE value with the standard deviation of target vector of training set\n",
        "    \n",
        "    y_validation = output( X_validation_new, W_optimal_training )   ## Now optimal weight vector which is got after using pseudo inverse on training samples is used \n",
        "                                                                    ## to calculate the output vector validation set\n",
        "    \n",
        "    MSE_validation = MSE(int(j*0.2),t_validation,y_validation)      ## MSE value of validation set is calculated\n",
        "    NRMSE_validation_value = np.sqrt(MSE_validation) / np.std(t_validation)   ## MSE value is normalized\n",
        "    training_NRMSE.append(NRMSE_training_value)\n",
        "    validation_NRMSE.append(NRMSE_validation_value)\n",
        "  training_NRMSE_samples[i,:] = training_NRMSE          ## training NRMSE value for a single experiment with different training samples is stored row wise in the matrix\n",
        "  validation_NRMSE_samples[i,:] = validation_NRMSE      ## validation NRMSE value for a single experiment with different validation samples is stored row wise in the matrix"
      ],
      "metadata": {
        "id": "pzmqRpwZeKNI"
      },
      "execution_count": null,
      "outputs": []
    },
    {
      "cell_type": "code",
      "source": [
        "fig = plt.figure(figsize =(13, 7))\n",
        "plt.boxplot([training_NRMSE_samples[:,0],training_NRMSE_samples[:,1],training_NRMSE_samples[:,2],training_NRMSE_samples[:,3],training_NRMSE_samples[:,4]])\n",
        "plt.ylabel('training_NRMSE for 10 different experiments')\n",
        "plt.xticks([1,2,3,4,5], labels = ['50_samples', '100_samples','150_samples','200_samples','250_samples'])\n",
        "plt.xlabel('Training NRMSE value with different training sample size across different experiments ')\n",
        "plt.show()"
      ],
      "metadata": {
        "colab": {
          "base_uri": "https://localhost:8080/",
          "height": 443
        },
        "id": "Le6aMTwFeR-H",
        "outputId": "74c0b0d4-94fa-45b9-9f51-850358c9a5d8"
      },
      "execution_count": null,
      "outputs": [
        {
          "output_type": "display_data",
          "data": {
            "text/plain": [
              "<Figure size 936x504 with 1 Axes>"
            ],
            "image/png": "[encoded data removed]"
          },
          "metadata": {
            "needs_background": "light"
          }
        }
      ]
    },
    {
      "cell_type": "code",
      "source": [
        "fig = plt.figure(figsize =(14, 7))\n",
        "plt.boxplot([validation_NRMSE_samples[:,0],validation_NRMSE_samples[:,1],validation_NRMSE_samples[:,2],validation_NRMSE_samples[:,3],validation_NRMSE_samples[:,4]])\n",
        "plt.ylabel('validation_NRMSE for 10 different experiments')\n",
        "plt.xticks([1,2,3,4,5], labels = ['50_training_samples', '100_training_samples','150_training_samples','200_training_samples','250_training_samples'])\n",
        "plt.xlabel('Validation NRMSE value with different training sample size across different experiments ')\n",
        "plt.show()"
      ],
      "metadata": {
        "colab": {
          "base_uri": "https://localhost:8080/",
          "height": 443
        },
        "id": "JrwgB8tpbEFo",
        "outputId": "7ca43725-6342-433c-87e3-c789da51ac5e"
      },
      "execution_count": null,
      "outputs": [
        {
          "output_type": "display_data",
          "data": {
            "text/plain": [
              "<Figure size 1008x504 with 1 Axes>"
            ],
            "image/png": "[encoded data removed]"
          },
          "metadata": {
            "needs_background": "light"
          }
        }
      ]
    },
    {
      "cell_type": "markdown",
      "source": [
        "Question 13(b) :"
      ],
      "metadata": {
        "id": "ljwsFj5icIOx"
      }
    },
    {
      "cell_type": "markdown",
      "source": [
        "Trends : Training and Validation NRMSE are decresing with increased number of variables or features. Also variability of training and validation NRMSE among the different experiments are also decreasing. As we know that increased features help ML models to perform better, but too many features may lead the ML models to overfitting."
      ],
      "metadata": {
        "id": "mQZDz5Tu2VC-"
      }
    },
    {
      "cell_type": "code",
      "source": [
        "training_variables_list = []  ## it stores the number of training variables for different experiment\n",
        "for i in range(training_number):\n",
        "  training_variables = int(input('Enter the total number of training and validation variables : '))  ## it stores number the training and validation variables for a particular experiment\n",
        "  training_variables_list.append(training_variables)"
      ],
      "metadata": {
        "colab": {
          "base_uri": "https://localhost:8080/"
        },
        "id": "fSALEUORdGmF",
        "outputId": "2efd364c-b2d9-425f-abdc-09e67154cd89"
      },
      "execution_count": null,
      "outputs": [
        {
          "name": "stdout",
          "output_type": "stream",
          "text": [
            "Enter the total number of training and validation variables : 4\n",
            "Enter the total number of training and validation variables : 8\n",
            "Enter the total number of training and validation variables : 12\n",
            "Enter the total number of training and validation variables : 16\n",
            "Enter the total number of training and validation variables : 20\n"
          ]
        }
      ]
    },
    {
      "cell_type": "code",
      "source": [
        "training_NRMSE_features = np.zeros((len(seed), training_number))  ## this matrix represents the number of experiments or different seed numbers in the row (10rows) and total number\n",
        "                                                                  ## of training variables in the column. For diffrent number of training variables Training NRMSE values will be stored \n",
        "                                                                  ## column wise and row will represent different number of experiments\n",
        "\n",
        "validation_NRMSE_features = np.zeros((len(seed), training_number))   ## This matrix stores the validation NRMSE value for different number of training variables and experiments\n",
        "n_training = int(input('Enter the number of training samples : '))  ## it stores the number of training samples\n",
        "for i in range(len(seed)):                 ## i iterates through different random seeds \n",
        "  np.random.seed(seed[i])      \n",
        "  training_NRMSE_with_variables = [] ## this list stores the NRMSE values for different variables\n",
        "  validation_NRMSE_with_variables = []  ## this list stores the NRMSE values with different variables for validation set\n",
        "  for j in training_variables_list:      ## j iterates through the different variables number stored in the list\n",
        "    X_train = data_matrix(n_training , j)   ## this function creates the training set with user defined training samples size and different variables\n",
        "    X0_train = np.ones((n_training , 1))\n",
        "    X_train_new = np.hstack((X0_train , X_train)) ## adding a new column for incorporating the bias value in the validation_set\n",
        "    W = np.random.randn(j + 1)                          ## A new weight vector is generated of variables. 1st value represents the bias W0 value\n",
        "    t_training = target(X_train_new , W)\n",
        "    X_validation = data_matrix(int(n_training*0.2) , j)   ## this function creates the validation set with user defined training samples size and different variables\n",
        "    X0_validation = np.ones((int(n_training*0.2) , 1))\n",
        "    X_validation_new = np.hstack((X0_validation , X_validation)) ## adding a new column for incorporating the bias value in the validation_set\n",
        "    t_validation = target(X_validation_new , W)\n",
        "    W_optimal_training, y_optimal_training, MSE_training = optimal_weight(lambda_value, t_training , X_train_new, (j + 1), n_training)\n",
        "    NRMSE_training_value = np.sqrt(MSE_training) / np.std(t_training)\n",
        "    y_validation = output( X_validation_new, W_optimal_training )\n",
        "    MSE_validation = MSE(int(n_training*0.2),t_validation,y_validation)\n",
        "    NRMSE_validation_value = np.sqrt(MSE_validation) / np.std(t_validation)\n",
        "    training_NRMSE_with_variables.append(NRMSE_training_value)\n",
        "    validation_NRMSE_with_variables.append(NRMSE_validation_value)\n",
        "  training_NRMSE_features[i,:] = training_NRMSE_with_variables     ## training NRMSE value for a single experiment with different training samples is stored row wise in the matrix\n",
        "  validation_NRMSE_features[i,:] = validation_NRMSE_with_variables   ## validation NRMSE value for a single experiment with different validation samples is stored row wise in the matrix"
      ],
      "metadata": {
        "colab": {
          "base_uri": "https://localhost:8080/"
        },
        "id": "u6bHWioOSE4s",
        "outputId": "3517c449-607c-4080-f357-105e87fef8b9"
      },
      "execution_count": null,
      "outputs": [
        {
          "name": "stdout",
          "output_type": "stream",
          "text": [
            "Enter the number of training samples : 200\n"
          ]
        }
      ]
    },
    {
      "cell_type": "code",
      "source": [
        "X_train_new.shape"
      ],
      "metadata": {
        "colab": {
          "base_uri": "https://localhost:8080/"
        },
        "id": "VkUfW46viw6O",
        "outputId": "66b73a4e-f1f8-4e4f-ea52-da250dfb933c"
      },
      "execution_count": null,
      "outputs": [
        {
          "output_type": "execute_result",
          "data": {
            "text/plain": [
              "(200, 21)"
            ]
          },
          "metadata": {},
          "execution_count": 47
        }
      ]
    },
    {
      "cell_type": "code",
      "source": [
        "fig = plt.figure(figsize =(13, 7))\n",
        "plt.boxplot([training_NRMSE_features[:,0],training_NRMSE_features[:,1],training_NRMSE_features[:,2],training_NRMSE_features[:,3],training_NRMSE_features[:,4]])\n",
        "plt.ylabel('training_NRMSE for 10 different experiments')\n",
        "plt.xticks([1,2,3,4,5], labels = ['4_features', '8_features','12_features','16_features','20_features'])\n",
        "plt.xlabel('Training NRMSE value with different variables across different experiments ')\n",
        "plt.show()"
      ],
      "metadata": {
        "colab": {
          "base_uri": "https://localhost:8080/",
          "height": 443
        },
        "id": "qidqY1ogTeMs",
        "outputId": "697d141c-0e32-4117-80f8-4ce1b38453f3"
      },
      "execution_count": null,
      "outputs": [
        {
          "output_type": "display_data",
          "data": {
            "text/plain": [
              "<Figure size 936x504 with 1 Axes>"
            ],
            "image/png": "[encoded data removed]"
          },
          "metadata": {
            "needs_background": "light"
          }
        }
      ]
    },
    {
      "cell_type": "code",
      "source": [
        "fig = plt.figure(figsize =(10, 7))\n",
        "plt.boxplot([validation_NRMSE_features[:,0],validation_NRMSE_features[:,1],validation_NRMSE_features[:,2],validation_NRMSE_features[:,3],validation_NRMSE_features[:,4]])\n",
        "plt.ylabel('validation_NRMSE for 10 different experiments')\n",
        "plt.xticks([1,2,3,4,5], labels = ['4_features', '8_features','12_features','16_features','20_features'])\n",
        "plt.xlabel(' validation NRMSE value with different variables across different experiments ')\n",
        "plt.show()"
      ],
      "metadata": {
        "colab": {
          "base_uri": "https://localhost:8080/",
          "height": 443
        },
        "id": "ahTnDFzIA3dM",
        "outputId": "9c79294c-6c58-4ae8-d1d7-cdf0c5f648ba"
      },
      "execution_count": null,
      "outputs": [
        {
          "output_type": "display_data",
          "data": {
            "text/plain": [
              "<Figure size 720x504 with 1 Axes>"
            ],
            "image/png": "[encoded data removed]"
          },
          "metadata": {
            "needs_background": "light"
          }
        }
      ]
    },
    {
      "cell_type": "markdown",
      "source": [
        "Question 13(c)"
      ],
      "metadata": {
        "id": "yfP0tPhZef9c"
      }
    },
    {
      "cell_type": "markdown",
      "source": [
        "Trends : Increasing noise variance increased the training and Validation RMSE score. Because increasing noise variance, increases the error function, so the predicted output with increasing noise variance , is much more less than the target value. And subsequntly, NRMSE value for different experiments with increasing noise variance will be increasing."
      ],
      "metadata": {
        "id": "DC8AmMUr3tPW"
      }
    },
    {
      "cell_type": "code",
      "source": [
        "noise_variance_list = []  ## it stores the noise variance values \n",
        "for i in range(training_number):   \n",
        "  noise_variances = float(input('Enter the noise variances : '))  ##takes noise variance value at the input\n",
        "  noise_variance_list.append(noise_variances)"
      ],
      "metadata": {
        "colab": {
          "base_uri": "https://localhost:8080/"
        },
        "id": "dcwSPOwXos2U",
        "outputId": "b1390653-102e-4fc6-d093-a8b48e80e3c6"
      },
      "execution_count": null,
      "outputs": [
        {
          "name": "stdout",
          "output_type": "stream",
          "text": [
            "Enter the noise variances : 0.2\n",
            "Enter the noise variances : 0.4\n",
            "Enter the noise variances : 0.6\n",
            "Enter the noise variances : 0.8\n",
            "Enter the noise variances : 1.0\n"
          ]
        }
      ]
    },
    {
      "cell_type": "code",
      "source": [
        "training_NRMSE_noise_variance = np.zeros((len(seed), training_number))   ## This matrix stores the training NRMSE value for different noise variaces and experiments\n",
        "validation_NRMSE_noise_variance = np.zeros((len(seed), training_number)) ## This matrix stores the validation NRMSE value for different noise variaces and experiments\n",
        "n_training = int(input('Enter the number of training samples : '))  ## it stores the number of training samples\n",
        "features = int(input('Enter the number of features : '))  ## it stores the number of training and validation set features\n",
        "for i in range(len(seed)):      ## i is iterating through the number of experiments\n",
        "  np.random.seed(seed[i])\n",
        "  training_NRMSE_with_noise_variance = [] ## this list stores the training NRMSE values for different noise variance\n",
        "  validation_NRMSE_with_noise_variance = []  ## this list stores the validation NRMSE for different noise variance\n",
        "  W_variance = np.random.randn(features + 1)   ## a new weight vector is generated whose 1st values represents bias W0 value\n",
        "  X_train = data_matrix(n_training , features)\n",
        "  X0_train = np.ones((n_training , 1))\n",
        "  X_train_new = np.hstack((X0_train , X_train)) ## adding a new column for incorporating the bias value in the validation_set\n",
        "  X_validation = data_matrix(int(n_training*0.2) , features)\n",
        "  X0_validation = np.ones((int(n_training*0.2) , 1))\n",
        "  X_validation_new = np.hstack((X0_validation , X_validation)) ## adding a new column for incorporating the bias value in the validation_set\n",
        "  for j in noise_variance_list:    ## j is iterating through a list which contains different noise variance values\n",
        "    t_training = target(X_train_new , W_variance , (j**0.5))  \n",
        "    t_validation = target(X_validation_new , W_variance , (j**0.5))\n",
        "    W_optimal_training, y_optimal_training, MSE_training = optimal_weight(lambda_value, t_training , X_train_new, features+1 , n_training)\n",
        "    NRMSE_training_value = np.sqrt(MSE_training) / np.std(t_training)\n",
        "    y_validation = output( X_validation_new, W_optimal_training )\n",
        "    MSE_validation = MSE(int(n_training*0.2), t_validation , y_validation)\n",
        "    NRMSE_validation_value = np.sqrt(MSE_validation) / np.std(t_validation)\n",
        "    training_NRMSE_with_noise_variance.append(NRMSE_training_value)\n",
        "    validation_NRMSE_with_noise_variance.append(NRMSE_validation_value)\n",
        "  training_NRMSE_noise_variance[i,:] = training_NRMSE_with_noise_variance   ## training NRMSE value for a single experiment with different noise variance is stored row wise in the matrix\n",
        "  validation_NRMSE_noise_variance[i,:] = validation_NRMSE_with_noise_variance   ## validation NRMSE value for a single experiment with different noise variance which is stored row wise in the matrix"
      ],
      "metadata": {
        "colab": {
          "base_uri": "https://localhost:8080/"
        },
        "id": "z4zfp8e-s2D8",
        "outputId": "19088d5a-a7ca-4c79-852a-9827dc417148"
      },
      "execution_count": null,
      "outputs": [
        {
          "name": "stdout",
          "output_type": "stream",
          "text": [
            "Enter the number of training samples : 150\n",
            "Enter the number of features : 20\n"
          ]
        }
      ]
    },
    {
      "cell_type": "code",
      "source": [
        "fig = plt.figure(figsize =(13, 7))\n",
        "plt.boxplot([training_NRMSE_noise_variance[:,0],training_NRMSE_noise_variance[:,1],training_NRMSE_noise_variance[:,2],training_NRMSE_noise_variance[:,3],training_NRMSE_noise_variance[:,4]])\n",
        "plt.ylabel('training_NRMSE for 10 different experiments')\n",
        "plt.xticks([1,2,3,4,5], labels = ['0.2_noise_variance', '0.4_noise_variance','0.6_noise_variance','0.8_noise_variance','1.0_noise_variance'])\n",
        "plt.xlabel(' training NRMSE value with different noise variances across different experiments ')\n",
        "plt.show()\n"
      ],
      "metadata": {
        "colab": {
          "base_uri": "https://localhost:8080/",
          "height": 443
        },
        "id": "v-s50ibLs7is",
        "outputId": "b825f6fb-dfd4-4a4c-ceed-c811f221453c"
      },
      "execution_count": null,
      "outputs": [
        {
          "output_type": "display_data",
          "data": {
            "text/plain": [
              "<Figure size 936x504 with 1 Axes>"
            ],
            "image/png": "[encoded data removed]"
          },
          "metadata": {
            "needs_background": "light"
          }
        }
      ]
    },
    {
      "cell_type": "code",
      "source": [
        "fig = plt.figure(figsize =(13, 7))\n",
        "plt.boxplot([validation_NRMSE_noise_variance[:,0],validation_NRMSE_noise_variance[:,1],validation_NRMSE_noise_variance[:,2],validation_NRMSE_noise_variance[:,3],validation_NRMSE_noise_variance[:,4]])\n",
        "plt.ylabel('validation_NRMSE for 10 different experiments')\n",
        "plt.xticks([1,2,3,4,5], labels = ['0.2_noise_variance', '0.4_noise_variance','0.6_noise_variance','0.8_noise_variance','1.0_noise_variance'])\n",
        "plt.xlabel(' validation NRMSE value with different noise variances across different experiments ')\n",
        "plt.show()"
      ],
      "metadata": {
        "colab": {
          "base_uri": "https://localhost:8080/",
          "height": 443
        },
        "id": "1GFUS65qyqIg",
        "outputId": "62716016-cb8a-49be-ea35-317272bc4247"
      },
      "execution_count": null,
      "outputs": [
        {
          "output_type": "display_data",
          "data": {
            "text/plain": [
              "<Figure size 936x504 with 1 Axes>"
            ],
            "image/png": "[encoded data removed]"
          },
          "metadata": {
            "needs_background": "light"
          }
        }
      ]
    },
    {
      "cell_type": "markdown",
      "source": [
        "Question 13(d):"
      ],
      "metadata": {
        "id": "SB63Kmf6Huki"
      }
    },
    {
      "cell_type": "code",
      "source": [
        "bias_values = np.random.randn(training_number)    ## it stores different bias values "
      ],
      "metadata": {
        "id": "xgSHltEa2DmQ"
      },
      "execution_count": null,
      "outputs": []
    },
    {
      "cell_type": "code",
      "source": [
        "bias_values"
      ],
      "metadata": {
        "colab": {
          "base_uri": "https://localhost:8080/"
        },
        "id": "5f0MCGnu2b6u",
        "outputId": "7a1cef44-9da4-4d20-fa56-c43b7d6e1882"
      },
      "execution_count": null,
      "outputs": [
        {
          "output_type": "execute_result",
          "data": {
            "text/plain": [
              "array([ 1.52299782, -1.26165935, -1.18379558,  0.17816844,  0.34175659])"
            ]
          },
          "metadata": {},
          "execution_count": 116
        }
      ]
    },
    {
      "cell_type": "code",
      "source": [
        "training_NRMSE_W0 = np.zeros((len(seed) , training_number))     ## This matrix stores the training NRMSE value for different bias values and experiments\n",
        "validation_NRMSE_W0 = np.zeros((len(seed) , training_number))   ## This matrix stores the validation NRMSE value for different bias values and experiments\n",
        "n_training = int(input('Enter the number of training samples : '))  ## it stores the number of training samples\n",
        "features = int(input('Enter the number of features : '))  ## it stores the number of training and validation set features\n",
        "for i in range(len(seed)):        ## i is iterating through the number of different seeds or experiments\n",
        "  np.random.seed(seed[i])\n",
        "  training_NRMSE_with_differet_W0 = [] ## this list stores the NRMSE values for bias values for a single random seed value or single experiment for training set\n",
        "  validation_NRMSE_with_different_W0 = []  ## this list stores the NRMSE values with different bias values for validation set for a single random seed value\n",
        "  W_with_differet_W0 = np.random.randn(features + 1)   ## weight vector with a random W0 for a single experiment\n",
        "  X_train = data_matrix(n_training , features)\n",
        "  X0_train = np.ones((n_training , 1))\n",
        "  X_train_new = np.hstack((X0_train , X_train)) ## adding a new column for incorporating the bias value in the validation_set\n",
        "  X_validation = data_matrix(int(n_training*0.4) , features)   ## 40 % of total training samples have been used as the validation set\n",
        "  X0_validation = np.ones((int(n_training*0.4) , 1))\n",
        "  X_validation_new = np.hstack((X0_validation , X_validation)) ## adding a new column for incorporating the bias value in the validation_set\n",
        "  for j in bias_values:             ## j is iterating through the different bias values which is stored in the 'bias_values' list for a single experiment\n",
        "    W_with_differet_W0[0] = j       ## now the stored bias values in the list is replaced the bias value of W_with_different_W0 weight vector\n",
        "    t_training = target(X_train_new , W_with_differet_W0 )  ## target vector for the training set is calculated\n",
        "    t_validation = target(X_validation_new , W_with_differet_W0 )     ## target vector for the validation set is calculated\n",
        "    W_optimal_training, y_optimal_training, MSE_training = optimal_weight(lambda_value, t_training , X_train_new, features+1 , n_training) \n",
        "    ## using pseudo inverse optimal weight vector has been calculated which is later used to determine the output vector of validation set\n",
        "    NRMSE_training_value = np.sqrt(MSE_training) / np.std(t_training)\n",
        "    y_validation = output( X_validation_new, W_optimal_training )\n",
        "    MSE_validation = MSE(int(n_training*0.4), t_validation , y_validation)\n",
        "    NRMSE_validation_value = np.sqrt(MSE_validation) / np.std(t_validation)\n",
        "    training_NRMSE_with_differet_W0.append(NRMSE_training_value)\n",
        "    validation_NRMSE_with_different_W0.append(NRMSE_validation_value)\n",
        "  training_NRMSE_W0[i,:] = training_NRMSE_with_differet_W0          ## training NRMSE value for a single experiment with different bias values is stored row wise in the matrix\n",
        "  validation_NRMSE_W0[i,:] = validation_NRMSE_with_different_W0  ## validation NRMSE value for a single experiment with different bias values is stored row wise in the matrix\n",
        "  ## Here row of the matrix defines the different experiments or random seed values and column defines the different bias values"
      ],
      "metadata": {
        "colab": {
          "base_uri": "https://localhost:8080/"
        },
        "id": "n2AXfrbwzncd",
        "outputId": "92e8cd0a-e677-4447-a564-1d15c8115287"
      },
      "execution_count": null,
      "outputs": [
        {
          "name": "stdout",
          "output_type": "stream",
          "text": [
            "Enter the number of training samples : 200\n",
            "Enter the number of features : 15\n"
          ]
        }
      ]
    },
    {
      "cell_type": "code",
      "source": [
        "fig = plt.figure(figsize =(10, 7))\n",
        "plt.boxplot([training_NRMSE_W0[:,0],training_NRMSE_W0[:,1],training_NRMSE_W0[:,2],training_NRMSE_W0[:,3],training_NRMSE_W0[:,4]])\n",
        "plt.ylabel('training_NRMSE for 10 different experiments')\n",
        "plt.xticks([1,2,3,4,5], labels = ['bias_value1', 'bias_value2','bias_value3','bias_value4','bias_value5'])\n",
        "plt.xlabel(' Training NRMSE value with different bias values across different experiments ')\n",
        "plt.show()"
      ],
      "metadata": {
        "colab": {
          "base_uri": "https://localhost:8080/",
          "height": 443
        },
        "id": "Pp611QetznmR",
        "outputId": "9d2ff811-989f-486c-9cbc-e68d223f8d3e"
      },
      "execution_count": null,
      "outputs": [
        {
          "output_type": "display_data",
          "data": {
            "text/plain": [
              "<Figure size 720x504 with 1 Axes>"
            ],
            "image/png": "[encoded data removed]"
          },
          "metadata": {
            "needs_background": "light"
          }
        }
      ]
    },
    {
      "cell_type": "code",
      "source": [
        "fig = plt.figure(figsize =(10, 7))\n",
        "plt.boxplot([validation_NRMSE_W0[:,0],validation_NRMSE_W0[:,1],validation_NRMSE_W0[:,2],validation_NRMSE_W0[:,3],validation_NRMSE_W0[:,4]])\n",
        "plt.ylabel('validation_NRMSE for 10 different experiments')\n",
        "plt.xticks([1,2,3,4,5], labels = ['bias_value1', 'bias_value2','bias_value3','bias_value4','bias_value5'])\n",
        "plt.xlabel(' validation NRMSE value with different bias values across different experiments ')\n",
        "plt.show()"
      ],
      "metadata": {
        "colab": {
          "base_uri": "https://localhost:8080/",
          "height": 443
        },
        "id": "mtIjFIyhzn0p",
        "outputId": "a064d7fb-29d8-4474-dbc3-0e57a3e3f1c8"
      },
      "execution_count": null,
      "outputs": [
        {
          "output_type": "display_data",
          "data": {
            "text/plain": [
              "<Figure size 720x504 with 1 Axes>"
            ],
            "image/png": "[encoded data removed]"
          },
          "metadata": {
            "needs_background": "light"
          }
        }
      ]
    },
    {
      "cell_type": "markdown",
      "source": [
        "Question 13(e)"
      ],
      "metadata": {
        "id": "N8owgSJlpypR"
      }
    },
    {
      "cell_type": "markdown",
      "source": [
        "Trends : Increasing lambda 2 value helps the ML model to reduce the overfitting problem. The same thing is being shown from these two graphs. Increasing lambda2 value increasing NRMSE value but the variablity among the training and validation NRMSE for different experiments are decreasing. So increasing lambda 2 value helps to reduce overfitting. But it tends the weight vector to the zero value, that's why the contour of the NRMSE value can't be able to attarct the weights around its center point (which is optimal value of weights for unregularized ML models). And NRMSE values are increasing.   "
      ],
      "metadata": {
        "id": "6aL_Qiyz5hs-"
      }
    },
    {
      "cell_type": "code",
      "source": [
        "n_training = int(input('Enter the number of training samples : '))  ## it stores the number of training samples\n",
        "features = int(input('Enter the number of features : '))  ## it stores the number of training and validation set features\n",
        "training_NRMSE_with_lambda2 = np.zeros((len(seed) , training_number)) ## This matrix stores the training NRMSE value for different lambda2 values and experiments\n",
        "validation_NRMSE_with_lambda2 = np.zeros((len(seed) , training_number))  ## This matrix stores the validation NRMSE value for different lambda2 values and experiments\n",
        "for i in range(len(seed)):    ## i is iterating through the different random seeds and experiments\n",
        "  np.random.seed(seed[i])\n",
        "  training_NRMSE_with_differet_lambda2 = [] ## this list stores the NRMSE values for different lambda2 values for a single experiment (training set)\n",
        "  validation_NRMSE_with_different_lambda2 = []  ## this list stores the NRMSE values with different lambda2 values for validation set for a single experiment\n",
        "  W_with_differet_lamda2 = np.random.randn(features + 1)    ## A new weight vector is generated for this problem\n",
        "  X_train = data_matrix(n_training , features)\n",
        "  X0_train = np.ones((n_training , 1))\n",
        "  X_train_new = np.hstack((X0_train , X_train)) ## adding a new column for incorporating the bias value in the validation_set\n",
        "  X_validation = data_matrix(int(n_training*0.2) , features)\n",
        "  X0_validation = np.ones((int(n_training*0.2) , 1))\n",
        "  X_validation_new = np.hstack((X0_validation , X_validation)) ## adding a new column for incorporating the bias value in the validation_set\n",
        "  t_training = target(X_train_new , W_with_differet_lamda2 )   ## target vector for the training set is calculated\n",
        "  t_validation = target(X_validation_new , W_with_differet_lamda2 )  ## target vector for the validation set is calculated\n",
        "  for j in np.arange(1 , 10000 , 2000):        ## j is iterating from 1 to 10000 with 2000 steps in between.. so lambda2 values will be (0.01 * j).. j is the multiplication factor\n",
        "    W_optimal_training, y_optimal_training, MSE_training = optimal_weight(lambda_value*j , t_training , X_train_new, features+1 , n_training)\n",
        "    ## In the similar way using pseudo inverse optimal weight vector is calculated\n",
        "    NRMSE_training_value = np.sqrt(MSE_training) / np.std(t_training)\n",
        "    y_validation = output( X_validation_new, W_optimal_training )\n",
        "    MSE_validation = MSE(int(n_training*0.2), t_validation , y_validation)\n",
        "    NRMSE_validation_value = np.sqrt(MSE_validation) / np.std(t_validation)\n",
        "    training_NRMSE_with_differet_lambda2.append(NRMSE_training_value)\n",
        "    validation_NRMSE_with_different_lambda2.append(NRMSE_validation_value)\n",
        "  training_NRMSE_with_lambda2[i,:] = training_NRMSE_with_differet_lambda2    ## training NRMSE value for a single experiment with different lambda2 values is stored row wise in the matrix\n",
        "  validation_NRMSE_with_lambda2[i,:] = validation_NRMSE_with_different_lambda2   ## training NRMSE value for a single experiment with different lambda2 values is stored row wise in the matrix\n",
        "   ## Here row of the matrix defines the different experiments or random seed values and column defines the different lambda2 values"
      ],
      "metadata": {
        "colab": {
          "base_uri": "https://localhost:8080/"
        },
        "id": "g02Inyh95Ibz",
        "outputId": "adaedca4-4875-44fa-be61-4ba4c40be01c"
      },
      "execution_count": null,
      "outputs": [
        {
          "name": "stdout",
          "output_type": "stream",
          "text": [
            "Enter the number of training samples : 200\n",
            "Enter the number of features : 20\n"
          ]
        }
      ]
    },
    {
      "cell_type": "code",
      "source": [
        "fig = plt.figure(figsize =(13, 7))\n",
        "plt.boxplot([training_NRMSE_with_lambda2[:,0],training_NRMSE_with_lambda2[:,1],training_NRMSE_with_lambda2[:,2],training_NRMSE_with_lambda2[:,3],training_NRMSE_with_lambda2[:,4]])\n",
        "plt.ylabel('training_NRMSE for 10 different experiments')\n",
        "plt.xticks([1,2,3,4,5], labels = ['lambda2_0.01', 'lambda2_20.0','lambda2_40.0','lambda2_60.0','lambda2_80.0'])\n",
        "plt.xlabel(' Training NRMSE value with different lambda2 values across different experiments ')\n",
        "plt.show()"
      ],
      "metadata": {
        "colab": {
          "base_uri": "https://localhost:8080/",
          "height": 443
        },
        "id": "BVnTq9uk5Ilx",
        "outputId": "8ac68f06-ed07-40b1-a80d-f764192193d1"
      },
      "execution_count": null,
      "outputs": [
        {
          "output_type": "display_data",
          "data": {
            "text/plain": [
              "<Figure size 936x504 with 1 Axes>"
            ],
            "image/png": "[encoded data removed]"
          },
          "metadata": {
            "needs_background": "light"
          }
        }
      ]
    },
    {
      "cell_type": "code",
      "source": [
        "fig = plt.figure(figsize =(13, 7))\n",
        "plt.boxplot([validation_NRMSE_with_lambda2[:,0],validation_NRMSE_with_lambda2[:,1],validation_NRMSE_with_lambda2[:,2],validation_NRMSE_with_lambda2[:,3],validation_NRMSE_with_lambda2[:,4]])\n",
        "plt.ylabel('validation_NRMSE for 10 different experiments')\n",
        "plt.xticks([1,2,3,4,5], labels = ['lambda2_0.01', 'lambda2_20.0','lambda2_40.0','lambda2_60.0','lambda2_80.0'])\n",
        "plt.xlabel(' validation NRMSE value with lambda2 across different experiments ')\n",
        "plt.show()"
      ],
      "metadata": {
        "colab": {
          "base_uri": "https://localhost:8080/",
          "height": 443
        },
        "id": "y2ly39lUrPjR",
        "outputId": "cb8df098-3501-49d4-b459-1257da8fce3a"
      },
      "execution_count": null,
      "outputs": [
        {
          "output_type": "display_data",
          "data": {
            "text/plain": [
              "<Figure size 936x504 with 1 Axes>"
            ],
            "image/png": "[encoded data removed]"
          },
          "metadata": {
            "needs_background": "light"
          }
        }
      ]
    },
    {
      "cell_type": "markdown",
      "source": [
        "Question 13 (f)"
      ],
      "metadata": {
        "id": "wdYZr7ZVMVQ8"
      }
    },
    {
      "cell_type": "markdown",
      "source": [
        "Time taken for differnt samples and features w.r.t number of samples and variables are not linear. "
      ],
      "metadata": {
        "id": "EEL5vs1x7bNx"
      }
    },
    {
      "cell_type": "code",
      "source": [
        "time_taken_for_different_samples = []     ## this list stores the time in second for different number of training samples\n",
        "features = int(input(\"Enter the number of features / variables : \"))  ## this variables stores the number of features\n",
        "power = int(input('Enter the final value of power upto which the iterations will be happened : '))  ## it defines the 10's power of the final training sample size\n",
        "W_samples = np.random.randn( features+1 )\n",
        "for i in range(1 , power + 1):    ## i is iterating from 1 to power+1 (power is user defined input). It presents at the 1st 10 training samples have been taken. but as\n",
        "## iteration (i) increases, training samples increases with 10^i\n",
        "  X_train = data_matrix(10**i , features)     ## features or variables are constant here \n",
        "  X0_train = np.ones((10**i , 1))\n",
        "  X_train_new = np.hstack((X0_train , X_train)) ## adding a new column for incorporating the bias value in the validation_set\n",
        "  X_validation = data_matrix(int((10**i)*0.2) , features)\n",
        "  X0_validation = np.ones(( int((10**i)*0.2) , 1))\n",
        "  X_validation_new = np.hstack((X0_validation , X_validation)) ## adding a new column for incorporating the bias value in the validation_set  \n",
        "  t_training = target(X_train_new , W_samples)\n",
        "  t_validation = target(X_validation_new , W_samples)\n",
        "  start_time = time.time()                    \n",
        "  W_optimal_training, y_optimal_training, MSE_training = optimal_weight(lambda_value , t_training , X_train_new, features+1 , 10**i)\n",
        "  end_time = time.time()              ## start_time and end_time stores the starting and ending time for calculating the pseudo inverse function for different samples\n",
        "  time_taken_for_different_samples.append(end_time - start_time)   "
      ],
      "metadata": {
        "colab": {
          "base_uri": "https://localhost:8080/"
        },
        "id": "kLlGHrs25I10",
        "outputId": "ff7c5b85-57ca-4680-f570-c33583d5f5a0"
      },
      "execution_count": null,
      "outputs": [
        {
          "name": "stdout",
          "output_type": "stream",
          "text": [
            "Enter the number of features / variables : 10\n",
            "Enter the final value of power upto which the iterations will be happened : 7\n"
          ]
        }
      ]
    },
    {
      "cell_type": "code",
      "source": [
        "## Here the data matrix size is (10^7 , 10) or (10000000, 10) , Breaking is occurred when 10^8 samples have been used with 10 features"
      ],
      "metadata": {
        "id": "zsn9exiMOwid"
      },
      "execution_count": null,
      "outputs": []
    },
    {
      "cell_type": "code",
      "source": [
        "fig = plt.figure(figsize=(13,7))\n",
        "plt.plot(time_taken_for_different_samples )\n",
        "plt.xticks([0,1,2,3,4,5,6], labels = ['samples_10', 'samples_100','samples_1000','samples_10000','samples_100000','samples_1000000','samples_10000000'])\n",
        "plt.ylabel('time (sec)')\n",
        "print('time_taken_for_different_samples : ' , time_taken_for_different_samples)\n",
        "plt.title('time in sec vs time_taken_for_different_samples ')"
      ],
      "metadata": {
        "colab": {
          "base_uri": "https://localhost:8080/",
          "height": 500
        },
        "id": "jhGVBveOyeKA",
        "outputId": "4f162df5-fe10-4c5d-e10c-ccba457dbc01"
      },
      "execution_count": null,
      "outputs": [
        {
          "output_type": "stream",
          "name": "stdout",
          "text": [
            "time_taken_for_different_samples :  [0.005312442779541016, 0.0016388893127441406, 0.009190559387207031, 0.07433724403381348, 0.43651890754699707, 3.9907102584838867, 46.045878171920776]\n"
          ]
        },
        {
          "output_type": "execute_result",
          "data": {
            "text/plain": [
              "Text(0.5, 1.0, 'time in sec vs time_taken_for_different_samples ')"
            ]
          },
          "metadata": {},
          "execution_count": 57
        },
        {
          "output_type": "display_data",
          "data": {
            "text/plain": [
              "<Figure size 936x504 with 1 Axes>"
            ],
            "image/png": "[encoded data removed]"
          },
          "metadata": {
            "needs_background": "light"
          }
        }
      ]
    },
    {
      "cell_type": "code",
      "source": [],
      "metadata": {
        "id": "yQ_XhZWv1fBK"
      },
      "execution_count": null,
      "outputs": []
    },
    {
      "cell_type": "code",
      "source": [
        "#This code is for the the time_taken_for_different features  "
      ],
      "metadata": {
        "id": "u8u4wDvDOn62"
      },
      "execution_count": null,
      "outputs": []
    },
    {
      "cell_type": "code",
      "source": [
        "time_taken_for_different_features = []   ## this list stores the time in second for different number of training and validation variables\n",
        "n_samples = int(input(\"Enter the number of samples : \"))  ## this variables stores the number of samples\n",
        "power = int(input('Enter the final value of power upto which the iterations will be happened : '))  ## it defines the 10's power of the final training and validation variables\n",
        "for i in range(1 , power + 1):    ## i is iterating from 1 to power+1 (power is user defined input). It represents at the 1st 10 training and validation variables have been taken. but as\n",
        "## iteration (i) increases, training and validation variables increases with 10^i\n",
        "  X_train = data_matrix(n_samples , 10**i)   ## number of training samples are constant here \n",
        "  X0_train = np.ones((n_samples , 1))\n",
        "  X_train_new = np.hstack((X0_train , X_train)) ## adding a new column for incorporating the bias value in the validation_set\n",
        "  X_validation = data_matrix(int(n_samples*0.2) , 10**i)\n",
        "  X0_validation = np.ones(( int(n_samples*0.2) , 1))\n",
        "  X_validation_new = np.hstack((X0_validation , X_validation)) ## adding a new column for incorporating the bias value in the validation_set \n",
        "  W_features = np.random.randn((10**i) + 1) \n",
        "  t_training = target(X_train_new , W_features)\n",
        "  t_validation = target(X_validation_new , W_features)\n",
        "  start_time = time.time()\n",
        "  W_optimal_training, y_optimal_training, MSE_training = optimal_weight(lambda_value , t_training , X_train_new, (10**i)+1 , n_samples)\n",
        "  end_time = time.time()\n",
        "  time_taken_for_different_features.append(end_time - start_time)  ## start_time and end_time stores the starting and ending time for calculating the pseudo inverse function for different variables sizes"
      ],
      "metadata": {
        "colab": {
          "base_uri": "https://localhost:8080/"
        },
        "id": "XYwm3tkK1fY8",
        "outputId": "06953ad7-57ea-4b93-945f-2c3c8f4787d1"
      },
      "execution_count": null,
      "outputs": [
        {
          "name": "stdout",
          "output_type": "stream",
          "text": [
            "Enter the number of samples : 100\n",
            "Enter the final value of power upto which the iterations will be happened : 4\n"
          ]
        }
      ]
    },
    {
      "cell_type": "code",
      "source": [
        "fig = plt.figure(figsize = (13 , 7))\n",
        "plt.plot(time_taken_for_different_features )\n",
        "plt.xticks([0,1,2,3], labels = ['features_10', 'features_100','features_1000','features_10000'])\n",
        "plt.ylabel('time (sec)')\n",
        "print('time_taken_for_different_features : ' , time_taken_for_different_features)\n",
        "plt.title('time in sec vs time_taken_for_different_features ')"
      ],
      "metadata": {
        "colab": {
          "base_uri": "https://localhost:8080/",
          "height": 480
        },
        "id": "4hW_J-n01gTL",
        "outputId": "886dd8dd-f508-4742-dc90-c67196d4ed8c"
      },
      "execution_count": null,
      "outputs": [
        {
          "output_type": "stream",
          "name": "stdout",
          "text": [
            "time_taken_for_different_features :  [0.0015795230865478516, 0.015578985214233398, 0.17174553871154785, 66.57097053527832]\n"
          ]
        },
        {
          "output_type": "execute_result",
          "data": {
            "text/plain": [
              "Text(0.5, 1.0, 'time in sec vs time_taken_for_different_features ')"
            ]
          },
          "metadata": {},
          "execution_count": 58
        },
        {
          "output_type": "display_data",
          "data": {
            "text/plain": [
              "<Figure size 936x504 with 1 Axes>"
            ],
            "image/png": "[encoded data removed]"
          },
          "metadata": {
            "needs_background": "light"
          }
        }
      ]
    },
    {
      "cell_type": "code",
      "source": [
        "## Here the data matrix size is (100 , 10001)  , Breaking is occurred when 10^5 variables have been used with training 100 samples"
      ],
      "metadata": {
        "id": "juUTqG3rS521"
      },
      "execution_count": null,
      "outputs": []
    },
    {
      "cell_type": "markdown",
      "source": [
        "Question 13(g) : The eta, lambda 1 and lambda 2 values are taken as constant\n"
      ],
      "metadata": {
        "id": "ZSK5PfkHTMIR"
      }
    },
    {
      "cell_type": "markdown",
      "source": [
        "Trends : Increasing iteration value reduces the training and validation NRMSE value for different experiments. It also reduces the variability among the traing and validation NRMSE values for different experiments. This is beacause, as we know that the gradient descent is a convex optimization problem, which searches for the global minima. As less iteration does not lead the loss function at the global minima. so increasing iteration reduces training and validation NRMSE. "
      ],
      "metadata": {
        "id": "lTgS0pX274XF"
      }
    },
    {
      "cell_type": "code",
      "source": [
        "iteration_list = []  ## it stores the  number of maximum iterations for different experiment\n",
        "for i in range(training_number):\n",
        "  iterations = int(input('Enter maximum iteration value : '))  ## it stores number of the maximum iterations for a particular experiment\n",
        "  iteration_list.append(iterations)"
      ],
      "metadata": {
        "colab": {
          "base_uri": "https://localhost:8080/"
        },
        "id": "GhrkOZcVx53C",
        "outputId": "46d8fb3f-6c7f-47b2-ae32-bde419c67079"
      },
      "execution_count": null,
      "outputs": [
        {
          "name": "stdout",
          "output_type": "stream",
          "text": [
            "Enter maximum iteration value : 10\n",
            "Enter maximum iteration value : 50\n",
            "Enter maximum iteration value : 200\n",
            "Enter maximum iteration value : 300\n",
            "Enter maximum iteration value : 400\n"
          ]
        }
      ]
    },
    {
      "cell_type": "code",
      "source": [
        "training_NRMSE_with_iteration = np.zeros(( len(seed) , training_number)) ## This matrix stores the training NRMSE value for different iteration values and experiments\n",
        "validation_NRMSE_with_iteration = np.zeros((len(seed) , training_number)) ## This matrix stores the validation NRMSE value for different iteration values and experiments\n",
        "n_training = int(input('Enter the number of training samples : '))  ## it stores the number of training samples\n",
        "features = int(input('Enter the number of features : '))  ## it stores the number of training and validation set features\n",
        "for i in range(len(seed)):   ## i is iterating thruogh the number of different experiments or random seeds\n",
        "  np.random.seed(seed[i])\n",
        "  training_NRMSE_with_differet_iteration = []      ## this list stores the training NRMSE values for different iterations for a particular experiment\n",
        "  validation_NRMSE_with_different_iteration = []  ## this list stores the validation NRMSE values for different iterations for a particular experiment\n",
        "  W1_with_differet_iter = np.random.randn(features + 1)  ## It generates the new weight vector W1_with_differet_iter which is used for calculating target vector for the traininig and validation samples \n",
        "  W2_with_differet_iter = np.random.randn(features + 1)   ## It generates the new weight vector W2_with_differet_iter which is used for calculating output vector for the traininig samples\n",
        "  X_train = data_matrix(n_training , features)     \n",
        "  X0_train = np.ones((n_training , 1))\n",
        "  X_train_new = np.hstack((X0_train , X_train)) ## adding a new column for incorporating the bias value in the validation_set\n",
        "  X_validation = data_matrix(int(n_training*0.2) , features)\n",
        "  X0_validation = np.ones((int(n_training*0.2) , 1))\n",
        "  X_validation_new = np.hstack((X0_validation , X_validation)) ## adding a new column for incorporating the bias value in the validation_set\n",
        "  t_training = target(X_train_new , W1_with_differet_iter)    ## it is calculating target vector for training samples using Weight vector W1_with_differet_iter\n",
        "  y_training = output(X_train_new , W2_with_differet_iter)    ## it is calculating output vector for training samples using Weight vector W2_with_differet_iter\n",
        "  t_validation = target(X_validation_new , W1_with_differet_iter)  ## it is calculating target vector for validation samples using Weight vector W1_with_differet_iter\n",
        "  initial_MSE_itr = MSE(n_training,t_training,y_training)          ## this provides the initial Mean squared value of training samples using target vector and initial output vectore\n",
        "  initial_NRMSE_itr = np.sqrt(initial_MSE_itr) / np.std(t_training) ## Then initial NRMSE value for the training samples has been calculated\n",
        "  for j in iteration_list:      ## j is iterating through the itearation list\n",
        "    Final_W_training, Final_output_training, Final_NRMSE_training = Linear_Regression(X_train_new, t_training , y_training , W2_with_differet_iter , j , initial_NRMSE_itr )\n",
        "    ## Then final weight vector, output vector and final NRMSE value for training samples have been calculated after j iterations using Gradient Descent approach\n",
        "    y_validation = output( X_validation_new, Final_W_training )   ## output vector for the validation samples have been calculated using the final Weight vector which is got after a \n",
        "    ## certain iteration using the training samples\n",
        "    MSE_validation = MSE(int(n_training*0.2), t_validation , y_validation)  ## MSE value for the validation samples has been calculated using the target vector and output vector \n",
        "    ## of validation samples \n",
        "    NRMSE_validation_value = np.sqrt(MSE_validation) / np.std(t_validation)\n",
        "    training_NRMSE_with_differet_iteration.append(Final_NRMSE_training)\n",
        "    validation_NRMSE_with_different_iteration.append(NRMSE_validation_value)\n",
        "  training_NRMSE_with_iteration[i,:] = training_NRMSE_with_differet_iteration ## training NRMSE value for a single experiment with different iterations is stored row wise in the matrix\n",
        "  validation_NRMSE_with_iteration[i,:] = validation_NRMSE_with_different_iteration ## validation NRMSE value for a single experiment with different iterations is stored row wise in the matrix"
      ],
      "metadata": {
        "colab": {
          "base_uri": "https://localhost:8080/"
        },
        "id": "nu-o7fVE5JI2",
        "outputId": "b1a7fe27-88fb-4adf-dc28-c83e7ea09818"
      },
      "execution_count": null,
      "outputs": [
        {
          "name": "stdout",
          "output_type": "stream",
          "text": [
            "Enter the number of training samples : 250\n",
            "Enter the number of features : 10\n"
          ]
        }
      ]
    },
    {
      "cell_type": "code",
      "source": [
        "fig = plt.figure(figsize =(13, 7))\n",
        "plt.boxplot([training_NRMSE_with_iteration[:,0],training_NRMSE_with_iteration[:,1],training_NRMSE_with_iteration[:,2],training_NRMSE_with_iteration[:,3],training_NRMSE_with_iteration[:,4]])\n",
        "plt.ylabel('training_NRMSE for 10 different experiments')\n",
        "plt.xticks([1,2,3,4,5], labels = ['iteration_10', 'iteration_50','iteration_200','iteration_300','iteration_400'])\n",
        "plt.xlabel(' Training NRMSE value with different iterations across different experiments ')\n",
        "plt.show()"
      ],
      "metadata": {
        "colab": {
          "base_uri": "https://localhost:8080/",
          "height": 443
        },
        "id": "NdpBHL68zFBd",
        "outputId": "625b5420-c19c-443f-d093-0095ebae3d27"
      },
      "execution_count": null,
      "outputs": [
        {
          "output_type": "display_data",
          "data": {
            "text/plain": [
              "<Figure size 936x504 with 1 Axes>"
            ],
            "image/png": "[encoded data removed]"
          },
          "metadata": {
            "needs_background": "light"
          }
        }
      ]
    },
    {
      "cell_type": "code",
      "source": [
        "fig = plt.figure(figsize =(10, 7))\n",
        "plt.boxplot([validation_NRMSE_with_iteration[:,0],validation_NRMSE_with_iteration[:,1],validation_NRMSE_with_iteration[:,2],validation_NRMSE_with_iteration[:,3],validation_NRMSE_with_iteration[:,4]])\n",
        "plt.ylabel('validation_NRMSE for 10 different experiments')\n",
        "plt.xticks([1,2,3,4,5], labels = ['iteration_10', 'iteration_50','iteration_200','iteration_300','iteration_400'])\n",
        "plt.xlabel(' Validation NRMSE value with different iterations across different experiments ')\n",
        "plt.show()"
      ],
      "metadata": {
        "colab": {
          "base_uri": "https://localhost:8080/",
          "height": 443
        },
        "id": "adhGMiM9Ep4e",
        "outputId": "0e0db3a8-3c23-4230-9284-a3aec8158538"
      },
      "execution_count": null,
      "outputs": [
        {
          "output_type": "display_data",
          "data": {
            "text/plain": [
              "<Figure size 720x504 with 1 Axes>"
            ],
            "image/png": "[encoded data removed]"
          },
          "metadata": {
            "needs_background": "light"
          }
        }
      ]
    },
    {
      "cell_type": "markdown",
      "source": [
        "Question 13 (h) : In this section same approach has been taken as 13 (g) , but with different eta values.. Here maximum iteration value, lambda 1 and lambda 2 values are taken as constant\n"
      ],
      "metadata": {
        "id": "VdhhMBAyd3Ew"
      }
    },
    {
      "cell_type": "markdown",
      "source": [
        "Trends : Here maximum iteration is consatant. so increasing eta value leads the loss function to the global minima as fast as possible.  maximum iteration ,here it is 100, is not sufficient for the less eta value leads the loss function to the global minima. Thats why with increasing eta Training and validation NRMSE is decreasing.  "
      ],
      "metadata": {
        "id": "n8GhrPvd82Tl"
      }
    },
    {
      "cell_type": "code",
      "source": [
        "eta_list = []  ## it stores the  number of eta values for experiment\n",
        "for i in range(training_number):\n",
        "  eta_values = float(input('Enter eta value : '))  ## it takes the eta value for a particular experiment\n",
        "  eta_list.append(eta_values)"
      ],
      "metadata": {
        "colab": {
          "base_uri": "https://localhost:8080/"
        },
        "id": "n55nyhZ2Iz1r",
        "outputId": "888f2afe-eb73-41ba-ea50-8308c7f7a72c"
      },
      "execution_count": null,
      "outputs": [
        {
          "name": "stdout",
          "output_type": "stream",
          "text": [
            "Enter eta value : 0.0001\n",
            "Enter eta value : 0.001\n",
            "Enter eta value : 0.01\n",
            "Enter eta value : 0.1\n",
            "Enter eta value : 1.0\n"
          ]
        }
      ]
    },
    {
      "cell_type": "code",
      "source": [
        "training_NRMSE_with_eta = np.zeros((len(seed), training_number))\n",
        "validation_NRMSE_with_eta = np.zeros((len(seed), training_number))\n",
        "n_training = int(input('Enter the number of training samples : '))  ## it stores the number of training samples\n",
        "features = int(input('Enter the number of features : '))  ## it stores the number of training and validation set features\n",
        "for i in range(len(seed)):\n",
        "  np.random.seed(seed[i])\n",
        "  training_NRMSE_with_differet_eta = []      ## this list stores the training NRMSE values for different eta values for a particular experiment\n",
        "  validation_NRMSE_with_different_eta = []  ## this list stores the NRMSE values with different eta values for validation set for a particular experiment\n",
        "  W1_with_differet_eta = np.random.randn(features + 1)\n",
        "  W2_with_differet_eta = np.random.randn(features + 1)\n",
        "  X_train = data_matrix(n_training , features)\n",
        "  X0_train = np.ones((n_training , 1))\n",
        "  X_train_new = np.hstack((X0_train , X_train)) ## adding a new column for incorporating the bias value in the validation_set\n",
        "  X_validation = data_matrix(int(n_training*0.2) , features)\n",
        "  X0_validation = np.ones((int(n_training*0.2) , 1))\n",
        "  X_validation_new = np.hstack((X0_validation , X_validation)) ## adding a new column for incorporating the bias value in the validation_set\n",
        "  t_training = target(X_train_new , W1_with_differet_eta)\n",
        "  y_training = output(X_train_new , W2_with_differet_eta)\n",
        "  t_validation = target(X_validation_new , W1_with_differet_eta)\n",
        "  initial_MSE_eta = MSE(n_training,t_training,y_training)\n",
        "  initial_NRMSE_eta = np.sqrt(initial_MSE_eta) / np.std(t_training)\n",
        "  for j in eta_list:\n",
        "    Final_W_training, Final_output_training, Final_NRMSE_training = Linear_Regression(X_train_new, t_training , y_training , W2_with_differet_eta ,  100 , initial_NRMSE_eta , eta = j )\n",
        "    y_validation = output( X_validation_new, Final_W_training )\n",
        "    MSE_validation = MSE(int(n_training*0.2), t_validation , y_validation)\n",
        "    NRMSE_validation_value = np.sqrt(MSE_validation) / np.std(t_validation)\n",
        "    training_NRMSE_with_differet_eta.append(Final_NRMSE_training)\n",
        "    validation_NRMSE_with_different_eta.append(NRMSE_validation_value)\n",
        "  training_NRMSE_with_eta[i,:] = training_NRMSE_with_differet_eta\n",
        "  validation_NRMSE_with_eta[i,:] = validation_NRMSE_with_different_eta"
      ],
      "metadata": {
        "colab": {
          "base_uri": "https://localhost:8080/"
        },
        "id": "PdybYXDBEqGf",
        "outputId": "20771f1c-f9f6-4c74-fe20-77bf00134a92"
      },
      "execution_count": null,
      "outputs": [
        {
          "name": "stdout",
          "output_type": "stream",
          "text": [
            "Enter the number of training samples : 200\n",
            "Enter the number of features : 20\n"
          ]
        }
      ]
    },
    {
      "cell_type": "code",
      "source": [
        "fig = plt.figure(figsize =(13, 7))\n",
        "plt.boxplot([training_NRMSE_with_eta[:,0],training_NRMSE_with_eta[:,1],training_NRMSE_with_eta[:,2],training_NRMSE_with_eta[:,3],training_NRMSE_with_eta[:,4]])\n",
        "plt.ylabel('training_NRMSE for 10 different experiments')\n",
        "plt.xticks([1,2,3,4,5], labels = ['eta_0.0001', 'eta_0.001','eta_0.01','eta_0.1','eta_1.0'])\n",
        "plt.xlabel(' Training NRMSE value with different eta values across different experiments ')\n",
        "plt.show()"
      ],
      "metadata": {
        "colab": {
          "base_uri": "https://localhost:8080/",
          "height": 443
        },
        "id": "uobXF7y9EqKY",
        "outputId": "ae590e3a-f076-4b17-d2f9-2469ab5ffd68"
      },
      "execution_count": null,
      "outputs": [
        {
          "output_type": "display_data",
          "data": {
            "text/plain": [
              "<Figure size 936x504 with 1 Axes>"
            ],
            "image/png": "[encoded data removed]"
          },
          "metadata": {
            "needs_background": "light"
          }
        }
      ]
    },
    {
      "cell_type": "code",
      "source": [
        "fig = plt.figure(figsize =(10, 7))\n",
        "plt.boxplot([validation_NRMSE_with_eta[:,0],validation_NRMSE_with_eta[:,1],validation_NRMSE_with_eta[:,2],validation_NRMSE_with_eta[:,3],validation_NRMSE_with_eta[:,4]])\n",
        "plt.ylabel('validation_NRMSE for 10 different experiments')\n",
        "plt.xticks([1,2,3,4,5], labels = ['eta_0.0001', 'eta_0.001','eta_0.01','eta_0.1','eta_1.0'])\n",
        "plt.xlabel(' validation NRMSE value with eta values across different experiments ')\n",
        "plt.show()"
      ],
      "metadata": {
        "colab": {
          "base_uri": "https://localhost:8080/",
          "height": 443
        },
        "id": "HF5sm8XDEqU2",
        "outputId": "a5ea970d-64d2-4ea6-fc7e-155337481d02"
      },
      "execution_count": null,
      "outputs": [
        {
          "output_type": "display_data",
          "data": {
            "text/plain": [
              "<Figure size 720x504 with 1 Axes>"
            ],
            "image/png": "[encoded data removed]"
          },
          "metadata": {
            "needs_background": "light"
          }
        }
      ]
    },
    {
      "cell_type": "markdown",
      "source": [
        "Question 13 (i) : This section has done the same thing as question 13(f) , but here gradient descent approach has been taken for counting the time taken for different number of training samples. And the approach is same as question 13 (g) , but with different training sample size"
      ],
      "metadata": {
        "id": "px1nnMRFfr45"
      }
    },
    {
      "cell_type": "code",
      "source": [
        "time_taken_for_different_samples = []  ## This list stores the time_taken_for_different number of training samples\n",
        "features = int(input(\"Enter the number of features / variables : \"))  ## this variables stores the number of features\n",
        "power = int(input('Enter the final value of power upto which the iterations will be happened : '))  ## it defines the final training and validation sample sizes\n",
        "for i in range(1 , power + 1):\n",
        "  X_train = data_matrix(10**i , features)\n",
        "  X0_train = np.ones((10**i , 1))\n",
        "  X_train_new = np.hstack((X0_train , X_train)) ## adding a new column for incorporating the bias value in the validation_set\n",
        "  X_validation = data_matrix(int((10**i)*0.2) , features)\n",
        "  X0_validation = np.ones((int((10**i)*0.2) , 1))\n",
        "  X_validation_new = np.hstack((X0_validation , X_validation)) ## adding a new column for incorporating the bias value in the validation_set\n",
        "  W1_samples = np.random.randn((10**i) + 1)\n",
        "  W2_samples = np.random.randn((10**i) + 1)\n",
        "  t_training = target(X_train_new , W1_samples)\n",
        "  y_training = output(X_train_new , W2_samples)\n",
        "  t_validation = target(X_validation_new , W1_samples)\n",
        "  initial_MSE = MSE(10**i,t_training,y_training)\n",
        "  initial_NRMSE = np.sqrt(initial_MSE) / np.std(t_training)\n",
        "  start_time = time.time()\n",
        "  Final_W_training, Final_output_training, Final_NRMSE_training = Linear_Regression(X_train_new, t_training , y_training , W2_samples ,  50 , initial_NRMSE , eta = 0.01 )\n",
        "  end_time = time.time()\n",
        "  time_taken_for_different_samples.append(end_time - start_time)"
      ],
      "metadata": {
        "colab": {
          "base_uri": "https://localhost:8080/"
        },
        "id": "bF7qOZtTqMq_",
        "outputId": "4a4899f4-1ee5-48b7-9f24-2be96f513d31"
      },
      "execution_count": null,
      "outputs": [
        {
          "name": "stdout",
          "output_type": "stream",
          "text": [
            "Enter the number of features / variables : 10\n",
            "Enter the final value of power upto which the iterations will be happened : 6\n"
          ]
        }
      ]
    },
    {
      "cell_type": "code",
      "source": [
        "fig = plt.figure(figsize=(13,7))\n",
        "plt.plot(time_taken_for_different_samples )\n",
        "plt.xticks([0,1,2,3,4,5], labels = ['samples_10', 'samples_100','samples_1000','samples_10000','samples_100000','samples_1000000'])\n",
        "plt.ylabel('time (sec)')\n",
        "print('time_taken_for_different_samples : ' , time_taken_for_different_samples)\n",
        "plt.title('time in sec vs time_taken_for_different_samples ')"
      ],
      "metadata": {
        "colab": {
          "base_uri": "https://localhost:8080/",
          "height": 480
        },
        "id": "c9lAO8pHqM7H",
        "outputId": "0da2ac41-3d7c-43ab-efb8-cce13d18b9d1"
      },
      "execution_count": null,
      "outputs": [
        {
          "output_type": "stream",
          "name": "stdout",
          "text": [
            "time_taken_for_different_samples :  [0.0041501522064208984, 0.020847082138061523, 0.38842010498046875, 3.7748358249664307, 21.747864246368408, 193.23472380638123]\n"
          ]
        },
        {
          "output_type": "execute_result",
          "data": {
            "text/plain": [
              "Text(0.5, 1.0, 'time in sec vs time_taken_for_different_samples ')"
            ]
          },
          "metadata": {},
          "execution_count": 44
        },
        {
          "output_type": "display_data",
          "data": {
            "text/plain": [
              "<Figure size 936x504 with 1 Axes>"
            ],
            "image/png": "[encoded data removed]"
          },
          "metadata": {
            "needs_background": "light"
          }
        }
      ]
    },
    {
      "cell_type": "code",
      "source": [
        "## Here the data matrix size is ( 1000000 , 10)  , Breaking is occurred when 10^8 samples have been used with 10 variables"
      ],
      "metadata": {
        "id": "v9Cx4K6iiVRd"
      },
      "execution_count": null,
      "outputs": []
    },
    {
      "cell_type": "markdown",
      "source": [
        "Question 13 (j) : this section has done the same thing but with same training samples but with different varaibles sizes"
      ],
      "metadata": {
        "id": "9SLMzt7KjV_o"
      }
    },
    {
      "cell_type": "code",
      "source": [
        "time_taken_for_different_features = []\n",
        "n_samples = int(input(\"Enter the number of samples : \"))  ## this variable stores the number of samples\n",
        "power = int(input('Enter the final value of power upto which the iterations will be happened : '))  ## it defines the final training and validation variables\n",
        "for i in range(1 , power + 1):\n",
        "  X_train = data_matrix(n_samples , 10**i)\n",
        "  X0_train = np.ones((n_samples , 1))\n",
        "  X_train_new = np.hstack((X0_train , X_train)) ## adding a new column for incorporating the bias value in the validation_set\n",
        "  X_validation = data_matrix(int(n_samples*0.2) , 10**i)\n",
        "  X0_validation = np.ones(( int(n_samples*0.2) , 1))\n",
        "  X_validation_new = np.hstack((X0_validation , X_validation)) ## adding a new column for incorporating the bias value in the validation_set\n",
        "  W1_features = np.random.randn((10**i) + 1)\n",
        "  W2_features = np.random.randn((10**i) + 1)\n",
        "  t_training = target(X_train_new , W1_features)\n",
        "  y_training = output(X_train_new , W2_features)\n",
        "  initial_MSE_features = MSE(n_samples,t_training,y_training)\n",
        "  initial_NRMSE_features = np.sqrt(initial_MSE) / np.std(t_training)\n",
        "  start_time = time.time()\n",
        "  Final_W_training, Final_output_training, Final_NRMSE_training = Linear_Regression(X_train_new, t_training , y_training , W2_features ,  50 , initial_NRMSE_features , eta = 0.01 )\n",
        "  end_time = time.time()\n",
        "  time_taken_for_different_features.append(end_time - start_time)"
      ],
      "metadata": {
        "colab": {
          "base_uri": "https://localhost:8080/"
        },
        "id": "lpHn1cLIqNFY",
        "outputId": "e7ae39bd-529c-40d5-c737-537ecf4e1f82"
      },
      "execution_count": null,
      "outputs": [
        {
          "name": "stdout",
          "output_type": "stream",
          "text": [
            "Enter the number of samples : 100\n",
            "Enter the final value of power upto which the iterations will be happened : 6\n"
          ]
        }
      ]
    },
    {
      "cell_type": "code",
      "source": [
        "fig = plt.figure(figsize = (13 , 7))\n",
        "plt.plot(time_taken_for_different_features )\n",
        "plt.xticks([0,1,2,3,4,5], labels = ['features_10', 'features_100','features_1000','features_10000','features_100000','features_1000000'])\n",
        "plt.ylabel('time (sec)')\n",
        "print('time_taken_for_different_features : ' , time_taken_for_different_features)\n",
        "plt.title('time in sec vs time_taken_for_different_features ')"
      ],
      "metadata": {
        "colab": {
          "base_uri": "https://localhost:8080/",
          "height": 480
        },
        "id": "rhJHQiErqNPl",
        "outputId": "876af525-74f2-4531-fefe-68fc3e3c8392"
      },
      "execution_count": null,
      "outputs": [
        {
          "output_type": "stream",
          "name": "stdout",
          "text": [
            "time_taken_for_different_features :  [0.025258302688598633, 0.28449153900146484, 2.705000877380371, 1.6481080055236816, 139.08620929718018, 1348.518180847168]\n"
          ]
        },
        {
          "output_type": "execute_result",
          "data": {
            "text/plain": [
              "Text(0.5, 1.0, 'time in sec vs time_taken_for_different_features ')"
            ]
          },
          "metadata": {},
          "execution_count": 50
        },
        {
          "output_type": "display_data",
          "data": {
            "text/plain": [
              "<Figure size 936x504 with 1 Axes>"
            ],
            "image/png": "[encoded data removed]"
          },
          "metadata": {
            "needs_background": "light"
          }
        }
      ]
    },
    {
      "cell_type": "code",
      "source": [
        "## Here the data matrix size is ( 100 , 1000000)  , Breaking is occurred when 10^7 variables have been used with 100 training samples"
      ],
      "metadata": {
        "id": "gI1fO9Eijs4n"
      },
      "execution_count": null,
      "outputs": []
    },
    {
      "cell_type": "markdown",
      "source": [
        "Question 13 (k) : In this section same approach has been taken as 13 (g) , but with different lambda2 values.. Here maximum iteration value, eta value and  lambda 1 = 0  are taken as constant"
      ],
      "metadata": {
        "id": "nSPyR9aEj9gd"
      }
    },
    {
      "cell_type": "markdown",
      "source": [
        "Trends : Increasing lambda 2 value helps the ML model to reduce the overfitting problem. The same thing is being shown from these two graphs. Increasing lambda2 value increasing NRMSE value but the variablity among the training and validation NRMSE for different experiments are decreasing. So increasing lambda 2 value helps to reduce overfitting. But it tends the weight vector to the zero value, that's why the contour of the NRMSE value can't be able to attarct the weights around its center point (which is optimal value of weights for unregularized ML models). And NRMSE values are increasing.  "
      ],
      "metadata": {
        "id": "b9tvKl-U-RV6"
      }
    },
    {
      "cell_type": "code",
      "source": [
        "lambda2_list = []  ## it stores the  number of lambda2 values for different experiment\n",
        "for i in range(training_number):\n",
        "  lambda2_values = float(input('Enter lambda2 value : '))  ## it stores lambda2 value for a particular experiment\n",
        "  lambda2_list.append(lambda2_values)"
      ],
      "metadata": {
        "colab": {
          "base_uri": "https://localhost:8080/"
        },
        "id": "FGn_VHqpIc5q",
        "outputId": "277b3ea9-788e-4760-bf95-c78f3fbfd7a6"
      },
      "execution_count": null,
      "outputs": [
        {
          "name": "stdout",
          "output_type": "stream",
          "text": [
            "Enter lambda2 value : 0.01\n",
            "Enter lambda2 value : 0.1\n",
            "Enter lambda2 value : 1.0\n",
            "Enter lambda2 value : 10.0\n",
            "Enter lambda2 value : 100.0\n"
          ]
        }
      ]
    },
    {
      "cell_type": "code",
      "source": [
        "training_NRMSE_with_lambda2 = np.zeros(( len(seed) , training_number))\n",
        "validation_NRMSE_with_lambda2 = np.zeros(( len(seed) , training_number))\n",
        "count_zero_weights_lambda2 = np.zeros(( len(seed) , training_number))\n",
        "n_training = int(input('Enter the number of training samples : '))  ## it stores the number of training samples\n",
        "features = int(input('Enter the number of features : '))  ## it stores the number of training and validation set features\n",
        "\n",
        "for i in range(len(seed)):\n",
        "  np.random.seed(seed[i])\n",
        "  training_NRMSE_with_differet_lambda2 = []  ## this list stores the training NRMSE values for different lambda2 values for a particular experiment\n",
        "  validation_NRMSE_with_different_lambda2 = []  ## this list stores the validation NRMSE values for different lambda2 values for a particular experiment\n",
        "  count_zero_weights_with_lambda2 = []           ## this list stores the zero weight values for different lambda2\n",
        "  W1_with_differet_lambda2 = np.random.randn(features + 1)\n",
        "  W2_with_differet_lambda2 = np.random.randn(features + 1)\n",
        "  X_train = data_matrix(n_training , features)\n",
        "  X0_train = np.ones((n_training , 1))\n",
        "  X_train_new = np.hstack((X0_train , X_train)) ## adding a new column for incorporating the bias value in the validation_set\n",
        "  X_validation = data_matrix(int(n_training*0.2) , features)\n",
        "  X0_validation = np.ones((int(n_training*0.2) , 1))\n",
        "  X_validation_new = np.hstack((X0_validation , X_validation)) ## adding a new column for incorporating the bias value in the validation_set\n",
        "  t_training = target(X_train_new , W1_with_differet_lambda2)\n",
        "  y_training = output(X_train_new , W2_with_differet_lambda2)\n",
        "  t_validation = target(X_validation_new , W1_with_differet_lambda2)\n",
        "  initial_MSE_lambda2 = MSE(n_training,t_training,y_training)\n",
        "  initial_NRMSE_lambda2 = np.sqrt(initial_MSE_lambda2) / np.std(t_training)\n",
        "  for j in lambda2_list:\n",
        "    Final_W_training, Final_output_training, Final_NRMSE_training = Linear_Regression(X_train_new, t_training , y_training , W2_with_differet_lambda2 , 100 , initial_NRMSE_lambda2 , lambda1 = 0.0, lambda2= j )\n",
        "    y_validation = output( X_validation_new, Final_W_training )\n",
        "    MSE_validation = MSE(int(n_training*0.2), t_validation , y_validation)\n",
        "    NRMSE_validation_value = np.sqrt(MSE_validation) / np.std(t_validation)\n",
        "    training_NRMSE_with_differet_lambda2.append(Final_NRMSE_training)\n",
        "    validation_NRMSE_with_different_lambda2.append(NRMSE_validation_value)\n",
        "    rounded_W_training = np.round(Final_W_training)       ## np.round() has been used to grt the nearly zero weight values\n",
        "    count_zero_weights_with_lambda2.append(np.size(rounded_W_training) - np.count_nonzero(rounded_W_training))\n",
        "  training_NRMSE_with_lambda2[i,:] = training_NRMSE_with_differet_lambda2\n",
        "  validation_NRMSE_with_lambda2[i,:] = validation_NRMSE_with_different_lambda2\n",
        "  count_zero_weights_lambda2[i,:] = count_zero_weights_with_lambda2   ## This matrix gives the number zero weight values including bias W0 in the rows for different experiments\n",
        "  ## for a particular lambda2 vale"
      ],
      "metadata": {
        "colab": {
          "base_uri": "https://localhost:8080/"
        },
        "id": "CbH3wERdS2Gj",
        "outputId": "d13386a4-4471-4cfd-89ec-b1604707c716"
      },
      "execution_count": null,
      "outputs": [
        {
          "name": "stdout",
          "output_type": "stream",
          "text": [
            "Enter the number of training samples : 200\n",
            "Enter the number of features : 17\n"
          ]
        }
      ]
    },
    {
      "cell_type": "code",
      "source": [
        "print('the number of zero weight values for different experiments with changing lambda2 values  : ' ,  count_zero_weights_lambda2  )\n",
        "\n",
        "## From the matrix it has been shown that at lambda2 =  10.0 values all the weight values including bias W0 is zero"
      ],
      "metadata": {
        "colab": {
          "base_uri": "https://localhost:8080/"
        },
        "id": "snwPJn0tOolf",
        "outputId": "960aaad1-5df2-4d8c-e07b-295a944c03fb"
      },
      "execution_count": null,
      "outputs": [
        {
          "output_type": "stream",
          "name": "stdout",
          "text": [
            "the number of zero weight values for different experiments with changing lambda2 values  :  [[12. 12. 15. 18.  3.]\n",
            " [ 7.  7. 14. 17.  3.]\n",
            " [10. 10. 16. 18.  3.]\n",
            " [10. 11. 16. 17.  3.]\n",
            " [ 8. 10. 17. 17.  2.]\n",
            " [11. 11. 16. 17.  6.]\n",
            " [10. 10. 15. 17.  5.]\n",
            " [ 8.  8. 15. 17.  0.]\n",
            " [10. 10. 16. 18.  2.]\n",
            " [ 8.  8. 16. 17.  2.]]\n"
          ]
        }
      ]
    },
    {
      "cell_type": "code",
      "source": [
        "fig = plt.figure(figsize=(13,7))\n",
        "plt.boxplot([training_NRMSE_with_lambda2[:,0],training_NRMSE_with_lambda2[:,1],training_NRMSE_with_lambda2[:,2],training_NRMSE_with_lambda2[:,3],training_NRMSE_with_lambda2[:,4]])\n",
        "plt.ylabel('training_NRMSE for 10 different experiments')\n",
        "plt.xticks([1,2,3,4,5], labels = ['lambda2_0.01', 'lambda2_0.1','lambda2_1','lambda2_10','lambda2_100'])\n",
        "plt.xlabel(' Training NRMSE value with different lambda2 values across different experiments ')\n",
        "plt.show()"
      ],
      "metadata": {
        "colab": {
          "base_uri": "https://localhost:8080/",
          "height": 443
        },
        "id": "-_QYFXvLUJ7p",
        "outputId": "9d184e55-3a5c-4499-dfae-400292fb7f3e"
      },
      "execution_count": null,
      "outputs": [
        {
          "output_type": "display_data",
          "data": {
            "text/plain": [
              "<Figure size 936x504 with 1 Axes>"
            ],
            "image/png": "[encoded data removed]"
          },
          "metadata": {
            "needs_background": "light"
          }
        }
      ]
    },
    {
      "cell_type": "code",
      "source": [
        "fig = plt.figure(figsize=(13,7))\n",
        "plt.boxplot([validation_NRMSE_with_lambda2[:,0],validation_NRMSE_with_lambda2[:,1],validation_NRMSE_with_lambda2[:,2],validation_NRMSE_with_lambda2[:,3],validation_NRMSE_with_lambda2[:,4]])\n",
        "plt.ylabel('validation_NRMSE for 10 different experiments')\n",
        "plt.xlabel(' validation NRMSE value with different lambda2 values across different experiments ')\n",
        "plt.xticks([1,2,3,4,5], labels = ['lambda2_0.01', 'lambda2_0.1','lambda2_1','lambda2_10','lambda2_100'])\n",
        "plt.show()"
      ],
      "metadata": {
        "colab": {
          "base_uri": "https://localhost:8080/",
          "height": 447
        },
        "id": "eN7oGEJ8eWgc",
        "outputId": "f2c94109-8430-4fbf-c8e5-de73ec843852"
      },
      "execution_count": null,
      "outputs": [
        {
          "output_type": "display_data",
          "data": {
            "text/plain": [
              "<Figure size 936x504 with 1 Axes>"
            ],
            "image/png": "[encoded data removed]"
          },
          "metadata": {
            "needs_background": "light"
          }
        }
      ]
    },
    {
      "cell_type": "markdown",
      "source": [
        "Question 13 (l) : In this section same approach has been taken as 13 (g) , but with different lambda1 values.. Here maximum iteration value, eta value and  lambda2 = 0  are taken as constant"
      ],
      "metadata": {
        "id": "3HPyC-6zoJGe"
      }
    },
    {
      "cell_type": "markdown",
      "source": [
        "Trends : Increasing lambda1 value helps the ML model to reduce the overfitting problem. The same thing is being shown from these two graphs. Increasing lambda2 value increasing NRMSE value but the variablity among the training and validation NRMSE for different experiments are decreasing. So increasing lambda 1 value helps to reduce overfitting value. But it tends the weight vector to the zero value, that's why the contour of the NRMSE value can't be able to attarct the weights around its center point (which is optimal value of weights for unregularized ML models). And NRMSE values are increasing.  "
      ],
      "metadata": {
        "id": "59mX5TEo-izh"
      }
    },
    {
      "cell_type": "code",
      "source": [
        "lambda1_list = []  ## it stores the  number of lambda1 values for different experiment\n",
        "for i in range(training_number):\n",
        "  lambda1_values = float(input('Enter lambda1 value : '))  ## it stores lambda1 value for a particular experiment\n",
        "  lambda1_list.append(lambda1_values)"
      ],
      "metadata": {
        "colab": {
          "base_uri": "https://localhost:8080/"
        },
        "id": "IGMkFHpJUTwt",
        "outputId": "7ec38805-ce51-482f-fc07-3bfc7efe61f3"
      },
      "execution_count": null,
      "outputs": [
        {
          "name": "stdout",
          "output_type": "stream",
          "text": [
            "Enter lambda1 value : 0.01\n",
            "Enter lambda1 value : 0.1\n",
            "Enter lambda1 value : 1.0\n",
            "Enter lambda1 value : 10.0\n",
            "Enter lambda1 value : 100.0\n"
          ]
        }
      ]
    },
    {
      "cell_type": "code",
      "source": [
        "training_NRMSE_with_lambda1 = np.zeros(( len(seed) , training_number))\n",
        "validation_NRMSE_with_lambda1 = np.zeros(( len(seed) , training_number))\n",
        "count_zero_weights_lambda1 = np.zeros(( len(seed) , training_number))\n",
        "n_training = int(input('Enter the number of training samples : '))  ## it stores the number of training samples\n",
        "features = int(input('Enter the number of features : '))  ## it stores the number of training and validation set features\n",
        "\n",
        "for i in range(len(seed)):\n",
        "  training_NRMSE_with_differet_lambda1 = []  ## this list stores the training NRMSE values for different lambda1 values for a particular experiment\n",
        "  validation_NRMSE_with_different_lambda1 = []  ##  this list stores the validation NRMSE values for different lambda1 values for a particular experiment\n",
        "  count_zero_weights_with_lambda1 = []           ## this list stores the zero weight values for different lambda1\n",
        "  W1_with_differet_lambda1 = np.random.randn(features + 1)\n",
        "  W2_with_differet_lambda1 = np.random.randn(features + 1)\n",
        "  X_train = data_matrix(n_training , features)\n",
        "  X0_train = np.ones((n_training , 1))\n",
        "  X_train_new = np.hstack((X0_train , X_train)) ## adding a new column for incorporating the bias value in the validation_set\n",
        "  X_validation = data_matrix(int(n_training*0.2) , features)\n",
        "  X0_validation = np.ones((int(n_training*0.2) , 1))\n",
        "  X_validation_new = np.hstack((X0_validation , X_validation)) ## adding a new column for incorporating the bias value in the validation_set\n",
        "  t_training = target(X_train_new , W1_with_differet_lambda1)\n",
        "  y_training = output(X_train_new , W2_with_differet_lambda1)\n",
        "  t_validation = target(X_validation_new , W1_with_differet_lambda1)\n",
        "  initial_MSE_lambda1 = MSE(n_training,t_training,y_training)\n",
        "  initial_NRMSE_lambda1 = np.sqrt(initial_MSE_lambda1) / np.std(t_training)\n",
        "  for j in lambda1_list:\n",
        "    Final_W_training, Final_output_training, Final_NRMSE_training = Linear_Regression(X_train_new, t_training , y_training , W2_with_differet_lambda1 , 100 , initial_NRMSE_lambda1 , lambda1 = j, lambda2= 0.0 )\n",
        "    y_validation = output( X_validation_new, Final_W_training )\n",
        "    MSE_validation = MSE(int(n_training*0.2), t_validation , y_validation)\n",
        "    NRMSE_validation_value = np.sqrt(MSE_validation) / np.std(t_validation)\n",
        "    training_NRMSE_with_differet_lambda1.append(Final_NRMSE_training)\n",
        "    validation_NRMSE_with_different_lambda1.append(NRMSE_validation_value)\n",
        "    rounded_W_training = np.round(Final_W_training)\n",
        "    count_zero_weights_with_lambda1.append(np.size(rounded_W_training) - np.count_nonzero(rounded_W_training))\n",
        "  training_NRMSE_with_lambda1[i,:] = training_NRMSE_with_differet_lambda1\n",
        "  validation_NRMSE_with_lambda1[i,:] = validation_NRMSE_with_different_lambda1\n",
        "  count_zero_weights_lambda1[i,:] = count_zero_weights_with_lambda1"
      ],
      "metadata": {
        "colab": {
          "base_uri": "https://localhost:8080/"
        },
        "id": "XFyx-DOsUaai",
        "outputId": "e7c88bd9-f872-4e81-f139-92d41596c6b6"
      },
      "execution_count": null,
      "outputs": [
        {
          "name": "stdout",
          "output_type": "stream",
          "text": [
            "Enter the number of training samples : 200\n",
            "Enter the number of features : 10\n"
          ]
        }
      ]
    },
    {
      "cell_type": "code",
      "source": [
        "fig = plt.figure(figsize=(13,7))\n",
        "plt.boxplot([training_NRMSE_with_lambda1[:,0],training_NRMSE_with_lambda1[:,1],training_NRMSE_with_lambda1[:,2],training_NRMSE_with_lambda1[:,3],training_NRMSE_with_lambda1[:,4]])\n",
        "plt.ylabel('training_NRMSE for 10 different experiments')\n",
        "plt.xticks([1,2,3,4,5], labels = ['lambda1_0.01', 'lambda1_0.1','lambda1_1','lambda1_10','lambda1_100'])\n",
        "plt.xlabel(' Training NRMSE value with different lambda 1 values across different experiments ')\n",
        "plt.show()"
      ],
      "metadata": {
        "colab": {
          "base_uri": "https://localhost:8080/",
          "height": 447
        },
        "id": "xh38_nyzeacW",
        "outputId": "db3fc4fe-9aba-4ebf-8b51-7305bd6814f8"
      },
      "execution_count": null,
      "outputs": [
        {
          "output_type": "display_data",
          "data": {
            "text/plain": [
              "<Figure size 936x504 with 1 Axes>"
            ],
            "image/png": "[encoded data removed]"
          },
          "metadata": {
            "needs_background": "light"
          }
        }
      ]
    },
    {
      "cell_type": "code",
      "source": [
        "fig = plt.figure(figsize=(13,7))\n",
        "plt.boxplot([validation_NRMSE_with_lambda1[:,0],validation_NRMSE_with_lambda1[:,1],validation_NRMSE_with_lambda1[:,2],validation_NRMSE_with_lambda1[:,3],validation_NRMSE_with_lambda1[:,4]])\n",
        "plt.ylabel('validation_NRMSE for 10 different experiments')\n",
        "plt.xlabel(' validation NRMSE value with different lambda 1 values across different experiments ')\n",
        "plt.xticks([1,2,3,4,5], labels = ['lambda1_0.01', 'lambda1_0.1','lambda1_1','lambda1_10','lambda1_100'])\n",
        "plt.show()"
      ],
      "metadata": {
        "colab": {
          "base_uri": "https://localhost:8080/",
          "height": 443
        },
        "id": "OgK_ZWCOebb3",
        "outputId": "c324839c-426c-48a6-8304-d31fcfc88285"
      },
      "execution_count": null,
      "outputs": [
        {
          "output_type": "display_data",
          "data": {
            "text/plain": [
              "<Figure size 936x504 with 1 Axes>"
            ],
            "image/png": "[encoded data removed]"
          },
          "metadata": {
            "needs_background": "light"
          }
        }
      ]
    },
    {
      "cell_type": "code",
      "source": [
        "print('the number of zero weight values for different experiments with changing lambda1 values  : ' ,  count_zero_weights_lambda1  )\n",
        "\n",
        "## From the matrix it has been shown that at lambda2 =  10.0 values all the weight values including bias W0 is zero"
      ],
      "metadata": {
        "colab": {
          "base_uri": "https://localhost:8080/"
        },
        "id": "TMG9gZ05PoC6",
        "outputId": "5dcaf52a-9f24-47b6-c14b-9eac109534e4"
      },
      "execution_count": null,
      "outputs": [
        {
          "output_type": "stream",
          "name": "stdout",
          "text": [
            "the number of zero weight values for different experiments with changing lambda1 values  :  [[ 5.  5.  9. 10.  2.]\n",
            " [ 6.  7. 11. 11.  7.]\n",
            " [ 4.  4. 10. 11.  6.]\n",
            " [ 9.  9.  9. 10.  6.]\n",
            " [ 5.  5.  8.  9.  6.]\n",
            " [ 6.  6.  9. 10.  7.]\n",
            " [ 4.  4.  9. 11.  5.]\n",
            " [ 5.  5.  8.  8.  7.]\n",
            " [ 5.  6.  6. 11.  5.]\n",
            " [ 5.  6.  8. 10.  3.]]\n"
          ]
        }
      ]
    },
    {
      "cell_type": "markdown",
      "source": [
        "Question 13(m)"
      ],
      "metadata": {
        "id": "ZOhWF_G0pfEx"
      }
    },
    {
      "cell_type": "code",
      "source": [
        "noise_variance_list = []  ## it stores the  number of noise variances for different experiment\n",
        "for i in range(training_number):\n",
        "  noise_variances = float(input('Enter the noise variances : '))  ## it stores number the training and validation variables for a particular experiment\n",
        "  noise_variance_list.append(noise_variances)"
      ],
      "metadata": {
        "colab": {
          "base_uri": "https://localhost:8080/"
        },
        "id": "pgr_0zNu2TV8",
        "outputId": "caae2de8-9f49-4e14-8d6a-f764cf1af99d"
      },
      "execution_count": null,
      "outputs": [
        {
          "name": "stdout",
          "output_type": "stream",
          "text": [
            "Enter the noise variances : 0.2\n",
            "Enter the noise variances : 0.4\n",
            "Enter the noise variances : 0.6\n",
            "Enter the noise variances : 0.8\n",
            "Enter the noise variances : 1.0\n"
          ]
        }
      ]
    },
    {
      "cell_type": "code",
      "source": [
        "lambda2_list = []  ## it stores the  number of lambda2 values for different experiment\n",
        "for i in range(training_number):\n",
        "  lambda2_values = float(input('Enter lambda2 value : '))  ## it stores lambda2 value for a particular experiment\n",
        "  lambda2_list.append(lambda2_values)"
      ],
      "metadata": {
        "colab": {
          "base_uri": "https://localhost:8080/"
        },
        "id": "bgtt6vDs2dYd",
        "outputId": "c7bc31e8-8974-4876-afbd-32b187aaf82e"
      },
      "execution_count": null,
      "outputs": [
        {
          "name": "stdout",
          "output_type": "stream",
          "text": [
            "Enter lambda2 value : 0.01\n",
            "Enter lambda2 value : 0.1\n",
            "Enter lambda2 value : 1.0\n",
            "Enter lambda2 value : 10.0\n",
            "Enter lambda2 value : 100.0\n"
          ]
        }
      ]
    },
    {
      "cell_type": "code",
      "source": [
        "optimal_lambda2_for_different_experiments = np.zeros((len(seed), training_number)) ## it is a matrix which stores the optimal lambda 2 value based upon different experiments and noise variance\n",
        "training_NRMSE_noise_variance_optimal_lambda2 = np.zeros((len(seed), training_number)) ## this list stores the NRMSE values for different noise variance for optimal value of lambda2\n",
        "validation_NRMSE_noise_variance_optimal_lambda2 = np.zeros((len(seed), training_number))  ## this list stores the NRMSE values with different noise variance for validation set for optimal value of lambda2\n",
        "n_training = int(input('Enter the number of training samples : '))  ## it stores the number of training samples\n",
        "features = int(input('Enter the number of features : '))  ## it stores the number of training and validation set features\n",
        "for k in range(len(seed)):   ## i is iterating through the number of experiments\n",
        "  np.random.seed(seed[k])\n",
        "  optimal_lambda2 = []    ## this list stores the optimal value of lambda 2 with different noise variances for a single experiment\n",
        "  training_NRMSE_with_noise_variance_optimal_lambda2 = [] ## this list stores the NRMSE values for different training variables for optimal value of lambda2\n",
        "  validation_NRMSE_with_noise_variance_optimal_lambda2 = []  ## this list stores the NRMSE values with different training samples for validation set for optimal value of lambda2\n",
        "  W1_variance = np.random.randn(features + 1)\n",
        "  W2_variance = np.random.randn(features + 1)\n",
        "  X_train = data_matrix(n_training , features)\n",
        "  X0_train = np.ones((n_training , 1))\n",
        "  X_train_new = np.hstack((X0_train , X_train)) ## adding a new column for incorporating the bias value in the validation_set\n",
        "  X_validation = data_matrix(int(n_training*0.2) , features)\n",
        "  X0_validation = np.ones((int(n_training*0.2) , 1))\n",
        "  X_validation_new = np.hstack((X0_validation , X_validation)) ## adding a new column for incorporating the bias value in the validation_set\n",
        "  for i in noise_variance_list:\n",
        "    training_NRMSE_with_noise_variance = [] ## this list stores the NRMSE values for different training variables\n",
        "    validation_NRMSE_with_noise_variance = []  ## this list stores the NRMSE values with different training samples for validation set\n",
        "    for j in lambda2_list:\n",
        "      t_training = target(X_train_new , W1_variance , (i**0.5))\n",
        "      y_training = output(X_train_new , W2_variance)\n",
        "      t_validation = target(X_validation_new , W1_variance , (i**0.5))\n",
        "      initial_MSE_variance = MSE(n_training,t_training,y_training)\n",
        "      initial_NRMSE_variance = np.sqrt(initial_MSE_variance) / np.std(t_training)\n",
        "      Final_W_training, Final_output_training, Final_NRMSE_training = Linear_Regression(X_train_new, t_training , y_training , W2_variance , 100 , initial_NRMSE_variance , lambda1 = 0.0, lambda2= j )\n",
        "      y_validation = output( X_validation_new, Final_W_training )\n",
        "      MSE_validation = MSE(int(n_training*0.2), t_validation , y_validation)\n",
        "      NRMSE_validation_value = np.sqrt(MSE_validation) / np.std(t_validation)\n",
        "      training_NRMSE_with_noise_variance.append(Final_NRMSE_training)  ## it stores the training NRMSE value for a particular noise variance with a single experiment for different values of lambda2\n",
        "      validation_NRMSE_with_noise_variance.append(NRMSE_validation_value)   ## it stores the validation NRMSE value for a particular noise variance with a single experiment for different values of lambda2\n",
        "    optimal_lambda2.append(lambda2_list[validation_NRMSE_with_noise_variance.index(min(validation_NRMSE_with_noise_variance))]) ## the lambda2 value which gives the minimum NRMSE value\n",
        "    ## on validation set, is stored as optimal lambda2 value for a single experiment with different noise variances \n",
        "    training_NRMSE_with_noise_variance_optimal_lambda2.append(training_NRMSE_with_noise_variance[validation_NRMSE_with_noise_variance.index(min(validation_NRMSE_with_noise_variance))])\n",
        "    ## this list stores the training_NRMSE value for optimal lambda2 for different noise variances with single experiment\n",
        "    validation_NRMSE_with_noise_variance_optimal_lambda2.append(min(validation_NRMSE_with_noise_variance))\n",
        "     ## this list stores the validation_NRMSE value for optimal lambda2 for different noise variances with single experiment\n",
        "  training_NRMSE_noise_variance_optimal_lambda2[k,:] = training_NRMSE_with_noise_variance_optimal_lambda2 ## This matrix stores training_NRMSE for different experiments with optimal lambda2 with different noise variances\n",
        "  validation_NRMSE_noise_variance_optimal_lambda2[k,:] = validation_NRMSE_with_noise_variance_optimal_lambda2  ## This matrix stores validation_NRMSE for different experiments with optimal lambda2 and with different noise variances\n",
        "  optimal_lambda2_for_different_experiments[k,:] = optimal_lambda2 ## This matrix stores optimal_lambda2 for different experiments with different noise variances\n"
      ],
      "metadata": {
        "colab": {
          "base_uri": "https://localhost:8080/"
        },
        "id": "l-zfygbOyTMr",
        "outputId": "2150f69c-cc94-41f1-ed74-371c196eba9d"
      },
      "execution_count": null,
      "outputs": [
        {
          "name": "stdout",
          "output_type": "stream",
          "text": [
            "Enter the number of training samples : 200\n",
            "Enter the number of features : 15\n"
          ]
        }
      ]
    },
    {
      "cell_type": "code",
      "source": [
        "fig = plt.figure(figsize=(13,7))\n",
        "plt.boxplot([training_NRMSE_noise_variance_optimal_lambda2[:,0],training_NRMSE_noise_variance_optimal_lambda2[:,1],training_NRMSE_noise_variance_optimal_lambda2[:,2],training_NRMSE_noise_variance_optimal_lambda2[:,3],training_NRMSE_noise_variance_optimal_lambda2[:,4]])\n",
        "plt.ylabel('training_NRMSE for 10 different experiments')\n",
        "plt.xticks([1,2,3,4,5], labels = ['noise_variance_0.2', 'noise_variance_0.4','noise_variance_0.6','noise_variance_0.8','noise_variance_1.0'])\n",
        "plt.xlabel(' Training NRMSE value with different noise variances across different experiments for optimal lambda2 ')\n",
        "plt.show()"
      ],
      "metadata": {
        "colab": {
          "base_uri": "https://localhost:8080/",
          "height": 443
        },
        "id": "wZbd281LVmv-",
        "outputId": "6e70af19-a7f2-456f-87a0-53b900dd800a"
      },
      "execution_count": null,
      "outputs": [
        {
          "output_type": "display_data",
          "data": {
            "text/plain": [
              "<Figure size 936x504 with 1 Axes>"
            ],
            "image/png": "[encoded data removed]"
          },
          "metadata": {
            "needs_background": "light"
          }
        }
      ]
    },
    {
      "cell_type": "code",
      "source": [
        "fig = plt.figure(figsize=(13,7))\n",
        "plt.boxplot([validation_NRMSE_noise_variance_optimal_lambda2[:,0],validation_NRMSE_noise_variance_optimal_lambda2[:,1],validation_NRMSE_noise_variance_optimal_lambda2[:,2],validation_NRMSE_noise_variance_optimal_lambda2[:,3],validation_NRMSE_noise_variance_optimal_lambda2[:,4]])\n",
        "plt.ylabel('validation_NRMSE for 10 different experiments')\n",
        "plt.xticks([1,2,3,4,5], labels = ['noise_variance_0.2', 'noise_variance_0.4','noise_variance_0.6','noise_variance_0.8','noise_variance_1.0'])\n",
        "plt.xlabel(' validation NRMSE value with different noise variances across different experiments for optimal lambda2 ')\n",
        "plt.show()"
      ],
      "metadata": {
        "colab": {
          "base_uri": "https://localhost:8080/",
          "height": 443
        },
        "id": "EoKskbwDyTXX",
        "outputId": "8e4897f7-c60e-48ac-98d4-e6b9c23dde78"
      },
      "execution_count": null,
      "outputs": [
        {
          "output_type": "display_data",
          "data": {
            "text/plain": [
              "<Figure size 936x504 with 1 Axes>"
            ],
            "image/png": "[encoded data removed]"
          },
          "metadata": {
            "needs_background": "light"
          }
        }
      ]
    },
    {
      "cell_type": "code",
      "source": [
        "optimal_lambda2_for_different_experiments"
      ],
      "metadata": {
        "colab": {
          "base_uri": "https://localhost:8080/"
        },
        "id": "_Su77wtfBL5h",
        "outputId": "b794109f-ff62-4ca3-85a4-a454a291d1e3"
      },
      "execution_count": null,
      "outputs": [
        {
          "output_type": "execute_result",
          "data": {
            "text/plain": [
              "array([[0.1 , 0.01, 0.1 , 0.01, 0.1 ],\n",
              "       [0.01, 0.01, 0.01, 0.01, 0.1 ],\n",
              "       [0.1 , 0.1 , 0.1 , 0.1 , 0.1 ],\n",
              "       [0.1 , 0.1 , 1.  , 0.1 , 0.1 ],\n",
              "       [0.1 , 0.1 , 0.1 , 1.  , 0.1 ],\n",
              "       [0.1 , 0.1 , 0.1 , 0.01, 0.1 ],\n",
              "       [0.01, 0.01, 0.01, 0.1 , 0.01],\n",
              "       [0.1 , 0.1 , 0.1 , 0.1 , 0.01],\n",
              "       [1.  , 0.1 , 1.  , 1.  , 1.  ],\n",
              "       [0.1 , 0.1 , 0.1 , 0.1 , 0.1 ]])"
            ]
          },
          "metadata": {},
          "execution_count": 108
        }
      ]
    },
    {
      "cell_type": "markdown",
      "source": [
        "Question 13(n) : The approach is same as 13(m) but here optimal lambda1 value has been found out"
      ],
      "metadata": {
        "id": "AQApe6_Ox71t"
      }
    },
    {
      "cell_type": "code",
      "source": [
        "noise_variance_list = []  ## it stores the  number of noise variances for different experiment\n",
        "for i in range(training_number):\n",
        "  noise_variances = float(input('Enter the noise variances : '))  ## it stores number the training and validation variables for a particular experiment\n",
        "  noise_variance_list.append(noise_variances)"
      ],
      "metadata": {
        "colab": {
          "base_uri": "https://localhost:8080/"
        },
        "id": "XtsYssVxyToD",
        "outputId": "3bb8140d-a054-4228-8e6d-6d1bc095cf5f"
      },
      "execution_count": null,
      "outputs": [
        {
          "name": "stdout",
          "output_type": "stream",
          "text": [
            "Enter the noise variances : 0.2\n",
            "Enter the noise variances : 0.4\n",
            "Enter the noise variances : 0.6\n",
            "Enter the noise variances : 0.8\n",
            "Enter the noise variances : 1.0\n"
          ]
        }
      ]
    },
    {
      "cell_type": "code",
      "source": [
        "lambda1_list = []  ## it stores the  number of lambda2 values for different experiment\n",
        "for i in range(training_number):\n",
        "  lambda1_values = float(input('Enter lambda1 value : '))  ## it stores lambda1 value for a particular experiment\n",
        "  lambda1_list.append(lambda1_values)"
      ],
      "metadata": {
        "colab": {
          "base_uri": "https://localhost:8080/"
        },
        "id": "ol7UsUHVyT4_",
        "outputId": "3762c30c-4abd-40cd-a3c5-f0810c113fa9"
      },
      "execution_count": null,
      "outputs": [
        {
          "name": "stdout",
          "output_type": "stream",
          "text": [
            "Enter lambda1 value : 0.01\n",
            "Enter lambda1 value : 0.1\n",
            "Enter lambda1 value : 1.0\n",
            "Enter lambda1 value : 10.0\n",
            "Enter lambda1 value : 100.0\n"
          ]
        }
      ]
    },
    {
      "cell_type": "code",
      "source": [
        "optimal_lambda1_for_different_experiments = np.zeros((len(seed), training_number))\n",
        "training_NRMSE_noise_variance_optimal_lambda1 = np.zeros((len(seed), training_number)) ## this list stores the NRMSE values for different training variables for optimal value of lambda2\n",
        "validation_NRMSE_noise_variance_optimal_lambda1 = np.zeros((len(seed), training_number))  ## this list stores the NRMSE values with different training samples for validation set for optimal value of lambda2\n",
        "n_training = int(input('Enter the number of training samples : '))  ## it stores the number of training samples\n",
        "features = int(input('Enter the number of features : '))  ## it stores the number of training and validation set features\n",
        "for k in range(len(seed)):\n",
        "  np.random.seed(seed[k])\n",
        "  optimal_lambda1 = []\n",
        "  training_NRMSE_with_noise_variance_optimal_lambda1 = [] ## this list stores the NRMSE values for different training variables for optimal value of lambda1\n",
        "  validation_NRMSE_with_noise_variance_optimal_lambda1 = []  ## this list stores the NRMSE values with different training samples for validation set for optimal value of lambda1\n",
        "  W1_variance = np.random.randn(features + 1)\n",
        "  W2_variance = np.random.randn(features + 1)\n",
        "  X_train = data_matrix(n_training , features)\n",
        "  X0_train = np.ones((n_training , 1))\n",
        "  X_train_new = np.hstack((X0_train , X_train)) ## adding a new column for incorporating the bias value in the validation_set\n",
        "  X_validation = data_matrix(int(n_training*0.2) , features)\n",
        "  X0_validation = np.ones((int(n_training*0.2) , 1))\n",
        "  X_validation_new = np.hstack((X0_validation , X_validation)) ## adding a new column for incorporating the bias value in the validation_set\n",
        "  for i in noise_variance_list:\n",
        "    training_NRMSE_with_noise_variance = [] ## this list stores the NRMSE values for different training variables\n",
        "    validation_NRMSE_with_noise_variance = []  ## this list stores the NRMSE values with different training samples for validation set\n",
        "    for j in lambda1_list:\n",
        "      t_training = target(X_train_new , W1_variance , (i**0.5))\n",
        "      y_training = output(X_train_new , W2_variance)\n",
        "      t_validation = target(X_validation_new , W1_variance , (i**0.5))\n",
        "      initial_MSE_variance = MSE(n_training,t_training,y_training)\n",
        "      initial_NRMSE_variance = np.sqrt(initial_MSE_variance) / np.std(t_training)\n",
        "      Final_W_training, Final_output_training, Final_NRMSE_training = Linear_Regression(X_train_new, t_training , y_training , W2_variance , 100 , initial_NRMSE_variance , lambda1 = j, lambda2= 0.0 )\n",
        "      y_validation = output( X_validation_new, Final_W_training )\n",
        "      MSE_validation = MSE(int(n_training*0.2), t_validation , y_validation)\n",
        "      NRMSE_validation_value = np.sqrt(MSE_validation) / np.std(t_validation)\n",
        "      training_NRMSE_with_noise_variance.append(Final_NRMSE_training)\n",
        "      validation_NRMSE_with_noise_variance.append(NRMSE_validation_value)\n",
        "    optimal_lambda1.append(lambda1_list[validation_NRMSE_with_noise_variance.index(min(validation_NRMSE_with_noise_variance))])\n",
        "    training_NRMSE_with_noise_variance_optimal_lambda1.append(training_NRMSE_with_noise_variance[validation_NRMSE_with_noise_variance.index(min(validation_NRMSE_with_noise_variance))])\n",
        "    validation_NRMSE_with_noise_variance_optimal_lambda1.append(min(validation_NRMSE_with_noise_variance))\n",
        "  training_NRMSE_noise_variance_optimal_lambda1[k,:] = training_NRMSE_with_noise_variance_optimal_lambda1\n",
        "  validation_NRMSE_noise_variance_optimal_lambda1[k,:] = validation_NRMSE_with_noise_variance_optimal_lambda1\n",
        "  optimal_lambda1_for_different_experiments[k,:] = optimal_lambda1\n"
      ],
      "metadata": {
        "colab": {
          "base_uri": "https://localhost:8080/"
        },
        "id": "A7hFsn4dvKGY",
        "outputId": "054b2361-ed29-4cb2-ffdf-db381a342f4e"
      },
      "execution_count": null,
      "outputs": [
        {
          "name": "stdout",
          "output_type": "stream",
          "text": [
            "Enter the number of training samples : 100\n",
            "Enter the number of features : 10\n"
          ]
        }
      ]
    },
    {
      "cell_type": "code",
      "source": [
        "fig = plt.figure(figsize=(13,7))\n",
        "plt.boxplot([training_NRMSE_noise_variance_optimal_lambda1[:,0],training_NRMSE_noise_variance_optimal_lambda1[:,1],training_NRMSE_noise_variance_optimal_lambda1[:,2],training_NRMSE_noise_variance_optimal_lambda1[:,3],training_NRMSE_noise_variance_optimal_lambda1[:,4]])\n",
        "plt.ylabel('training_NRMSE for 10 different experiments')\n",
        "plt.xticks([1,2,3,4,5], labels = ['noise_variance_0.2', 'noise_variance_0.4','noise_variance_0.6','noise_variance_0.8','noise_variance_1.0'])\n",
        "plt.xlabel(' Training NRMSE value with different noise variances across different experiments for optimal lambda1 ')\n",
        "plt.show()"
      ],
      "metadata": {
        "colab": {
          "base_uri": "https://localhost:8080/",
          "height": 443
        },
        "id": "uPagiruuyKJj",
        "outputId": "e4b44193-b26f-4ca9-abeb-fe1c4092d93c"
      },
      "execution_count": null,
      "outputs": [
        {
          "output_type": "display_data",
          "data": {
            "text/plain": [
              "<Figure size 936x504 with 1 Axes>"
            ],
            "image/png": "[encoded data removed]"
          },
          "metadata": {
            "needs_background": "light"
          }
        }
      ]
    },
    {
      "cell_type": "code",
      "source": [
        "fig = plt.figure(figsize=(13,7))\n",
        "plt.boxplot([validation_NRMSE_noise_variance_optimal_lambda1[:,0],validation_NRMSE_noise_variance_optimal_lambda1[:,1],validation_NRMSE_noise_variance_optimal_lambda1[:,2],validation_NRMSE_noise_variance_optimal_lambda1[:,3],validation_NRMSE_noise_variance_optimal_lambda1[:,4]])\n",
        "plt.ylabel('validation_NRMSE for 10 different experiments')\n",
        "plt.xticks([1,2,3,4,5], labels = ['noise_variance_0.2', 'noise_variance_0.4','noise_variance_0.6','noise_variance_0.8','noise_variance_1.0'])\n",
        "plt.xlabel(' validation NRMSE value with different noise variances across different experiments for optimal lambda1 ')\n",
        "plt.show()"
      ],
      "metadata": {
        "colab": {
          "base_uri": "https://localhost:8080/",
          "height": 443
        },
        "id": "dcJIfrlZyJpG",
        "outputId": "ccaa7053-1b97-4af8-d736-cb96d7916231"
      },
      "execution_count": null,
      "outputs": [
        {
          "output_type": "display_data",
          "data": {
            "text/plain": [
              "<Figure size 936x504 with 1 Axes>"
            ],
            "image/png": "[encoded data removed]"
          },
          "metadata": {
            "needs_background": "light"
          }
        }
      ]
    }
  ]
}